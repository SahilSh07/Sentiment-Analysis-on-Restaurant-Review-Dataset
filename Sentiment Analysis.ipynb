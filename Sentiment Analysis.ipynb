{
 "cells": [
  {
   "cell_type": "markdown",
   "id": "dafa825d",
   "metadata": {},
   "source": [
    "# <font color=blue> Sentiment Analysis on a Restaurant Review dataset<font color>"
   ]
  },
  {
   "cell_type": "markdown",
   "id": "abd24729",
   "metadata": {},
   "source": [
    "### <font color=blue>IMPORTING LIBRARIES<font color=blue>"
   ]
  },
  {
   "cell_type": "code",
   "execution_count": 1,
   "id": "235b5160",
   "metadata": {},
   "outputs": [],
   "source": [
    "import numpy as np\n",
    "import pandas as pd\n",
    "import matplotlib.pyplot as plt\n",
    "import seaborn as sns\n",
    "\n",
    "import re\n",
    "import nltk\n",
    "#nltk.download(\"stopwords\")\n",
    "from nltk.corpus import stopwords\n",
    "from nltk.stem.porter import PorterStemmer\n",
    "from sklearn.feature_extraction.text import CountVectorizer\n",
    "from sklearn.feature_extraction.text import TfidfVectorizer\n",
    "\n",
    "from sklearn.model_selection import train_test_split\n",
    "from sklearn.naive_bayes import GaussianNB\n",
    "from sklearn.metrics import accuracy_score, confusion_matrix\n",
    "from sklearn.linear_model import LogisticRegression\n",
    "from sklearn.metrics import roc_auc_score, roc_curve, classification_report"
   ]
  },
  {
   "cell_type": "markdown",
   "id": "5f215573",
   "metadata": {},
   "source": [
    "### <font color=blue>LOADING DATASET<font color=blue>"
   ]
  },
  {
   "cell_type": "code",
   "execution_count": 2,
   "id": "7ce69a80",
   "metadata": {},
   "outputs": [
    {
     "data": {
      "text/html": [
       "<div>\n",
       "<style scoped>\n",
       "    .dataframe tbody tr th:only-of-type {\n",
       "        vertical-align: middle;\n",
       "    }\n",
       "\n",
       "    .dataframe tbody tr th {\n",
       "        vertical-align: top;\n",
       "    }\n",
       "\n",
       "    .dataframe thead th {\n",
       "        text-align: right;\n",
       "    }\n",
       "</style>\n",
       "<table border=\"1\" class=\"dataframe\">\n",
       "  <thead>\n",
       "    <tr style=\"text-align: right;\">\n",
       "      <th></th>\n",
       "      <th>Review</th>\n",
       "      <th>Liked</th>\n",
       "    </tr>\n",
       "  </thead>\n",
       "  <tbody>\n",
       "    <tr>\n",
       "      <th>0</th>\n",
       "      <td>Wow... Loved this place.</td>\n",
       "      <td>1</td>\n",
       "    </tr>\n",
       "    <tr>\n",
       "      <th>1</th>\n",
       "      <td>Crust is not good.</td>\n",
       "      <td>0</td>\n",
       "    </tr>\n",
       "    <tr>\n",
       "      <th>2</th>\n",
       "      <td>Not tasty and the texture was just nasty.</td>\n",
       "      <td>0</td>\n",
       "    </tr>\n",
       "    <tr>\n",
       "      <th>3</th>\n",
       "      <td>Stopped by during the late May bank holiday of...</td>\n",
       "      <td>1</td>\n",
       "    </tr>\n",
       "    <tr>\n",
       "      <th>4</th>\n",
       "      <td>The selection on the menu was great and so wer...</td>\n",
       "      <td>1</td>\n",
       "    </tr>\n",
       "  </tbody>\n",
       "</table>\n",
       "</div>"
      ],
      "text/plain": [
       "                                              Review  Liked\n",
       "0                           Wow... Loved this place.      1\n",
       "1                                 Crust is not good.      0\n",
       "2          Not tasty and the texture was just nasty.      0\n",
       "3  Stopped by during the late May bank holiday of...      1\n",
       "4  The selection on the menu was great and so wer...      1"
      ]
     },
     "execution_count": 2,
     "metadata": {},
     "output_type": "execute_result"
    }
   ],
   "source": [
    "df = pd.read_csv(\"https://raw.githubusercontent.com/SahilSh07/Sentiment-Analysis-on-Restaurant-Review-Dataset/main/Restaurant_Reviews.tsv\",\n",
    "                delimiter=\"\\t\")\n",
    "df.head()"
   ]
  },
  {
   "cell_type": "code",
   "execution_count": 3,
   "id": "c6b08827",
   "metadata": {},
   "outputs": [
    {
     "data": {
      "text/plain": [
       "(1000, 2)"
      ]
     },
     "execution_count": 3,
     "metadata": {},
     "output_type": "execute_result"
    }
   ],
   "source": [
    "df.shape"
   ]
  },
  {
   "cell_type": "code",
   "execution_count": 4,
   "id": "dac44a0d",
   "metadata": {},
   "outputs": [
    {
     "data": {
      "text/plain": [
       "Review    object\n",
       "Liked      int64\n",
       "dtype: object"
      ]
     },
     "execution_count": 4,
     "metadata": {},
     "output_type": "execute_result"
    }
   ],
   "source": [
    "df.dtypes"
   ]
  },
  {
   "cell_type": "code",
   "execution_count": 5,
   "id": "6644255a",
   "metadata": {},
   "outputs": [
    {
     "name": "stdout",
     "output_type": "stream",
     "text": [
      "<class 'pandas.core.frame.DataFrame'>\n",
      "RangeIndex: 1000 entries, 0 to 999\n",
      "Data columns (total 2 columns):\n",
      " #   Column  Non-Null Count  Dtype \n",
      "---  ------  --------------  ----- \n",
      " 0   Review  1000 non-null   object\n",
      " 1   Liked   1000 non-null   int64 \n",
      "dtypes: int64(1), object(1)\n",
      "memory usage: 15.8+ KB\n"
     ]
    }
   ],
   "source": [
    "df.info()"
   ]
  },
  {
   "cell_type": "code",
   "execution_count": 6,
   "id": "0e1b5082",
   "metadata": {},
   "outputs": [
    {
     "data": {
      "text/plain": [
       "Index(['Review', 'Liked'], dtype='object')"
      ]
     },
     "execution_count": 6,
     "metadata": {},
     "output_type": "execute_result"
    }
   ],
   "source": [
    "df.columns"
   ]
  },
  {
   "cell_type": "code",
   "execution_count": 7,
   "id": "2a0aa9ee",
   "metadata": {},
   "outputs": [
    {
     "data": {
      "text/plain": [
       "1    50.0\n",
       "0    50.0\n",
       "Name: Liked, dtype: float64"
      ]
     },
     "execution_count": 7,
     "metadata": {},
     "output_type": "execute_result"
    }
   ],
   "source": [
    "df.Liked.value_counts(normalize=True)*100"
   ]
  },
  {
   "cell_type": "code",
   "execution_count": 8,
   "id": "5104ba1d",
   "metadata": {},
   "outputs": [
    {
     "data": {
      "text/plain": [
       "Liked\n",
       "0    500\n",
       "1    500\n",
       "dtype: int64"
      ]
     },
     "execution_count": 8,
     "metadata": {},
     "output_type": "execute_result"
    }
   ],
   "source": [
    "df.groupby(['Liked']).size()"
   ]
  },
  {
   "cell_type": "code",
   "execution_count": 9,
   "id": "9725f6c4",
   "metadata": {},
   "outputs": [
    {
     "data": {
      "text/plain": [
       "Review    0\n",
       "Liked     0\n",
       "dtype: int64"
      ]
     },
     "execution_count": 9,
     "metadata": {},
     "output_type": "execute_result"
    }
   ],
   "source": [
    "df.isna().sum()"
   ]
  },
  {
   "cell_type": "code",
   "execution_count": 10,
   "id": "4598c69d",
   "metadata": {},
   "outputs": [
    {
     "data": {
      "text/plain": [
       "'Stopped by during the late May bank holiday off Rick Steve recommendation and loved it.'"
      ]
     },
     "execution_count": 10,
     "metadata": {},
     "output_type": "execute_result"
    }
   ],
   "source": [
    "df['Review'][3]"
   ]
  },
  {
   "cell_type": "markdown",
   "id": "409ea340",
   "metadata": {},
   "source": [
    "### * **<font color=blue>Removing Punctuations<font color=blue>**\n",
    "### * **<font color=blue>Removing Stopwords<font color=blue>**\n",
    "### * **<font color=blue>Lowercasing<font color=blue>**\n",
    "### * **<font color=blue>Tokenization<font color=blue>**\n",
    "### * **<font color=blue>Stemming<font color=blue>**\n"
   ]
  },
  {
   "cell_type": "code",
   "execution_count": 11,
   "id": "ed0295d1",
   "metadata": {},
   "outputs": [
    {
     "data": {
      "text/html": [
       "<div>\n",
       "<style scoped>\n",
       "    .dataframe tbody tr th:only-of-type {\n",
       "        vertical-align: middle;\n",
       "    }\n",
       "\n",
       "    .dataframe tbody tr th {\n",
       "        vertical-align: top;\n",
       "    }\n",
       "\n",
       "    .dataframe thead th {\n",
       "        text-align: right;\n",
       "    }\n",
       "</style>\n",
       "<table border=\"1\" class=\"dataframe\">\n",
       "  <thead>\n",
       "    <tr style=\"text-align: right;\">\n",
       "      <th></th>\n",
       "      <th>Review</th>\n",
       "      <th>Liked</th>\n",
       "    </tr>\n",
       "  </thead>\n",
       "  <tbody>\n",
       "    <tr>\n",
       "      <th>0</th>\n",
       "      <td>Wow... Loved this place.</td>\n",
       "      <td>1</td>\n",
       "    </tr>\n",
       "    <tr>\n",
       "      <th>1</th>\n",
       "      <td>Crust is not good.</td>\n",
       "      <td>0</td>\n",
       "    </tr>\n",
       "    <tr>\n",
       "      <th>2</th>\n",
       "      <td>Not tasty and the texture was just nasty.</td>\n",
       "      <td>0</td>\n",
       "    </tr>\n",
       "    <tr>\n",
       "      <th>3</th>\n",
       "      <td>Stopped by during the late May bank holiday of...</td>\n",
       "      <td>1</td>\n",
       "    </tr>\n",
       "    <tr>\n",
       "      <th>4</th>\n",
       "      <td>The selection on the menu was great and so wer...</td>\n",
       "      <td>1</td>\n",
       "    </tr>\n",
       "    <tr>\n",
       "      <th>...</th>\n",
       "      <td>...</td>\n",
       "      <td>...</td>\n",
       "    </tr>\n",
       "    <tr>\n",
       "      <th>995</th>\n",
       "      <td>I think food should have flavor and texture an...</td>\n",
       "      <td>0</td>\n",
       "    </tr>\n",
       "    <tr>\n",
       "      <th>996</th>\n",
       "      <td>Appetite instantly gone.</td>\n",
       "      <td>0</td>\n",
       "    </tr>\n",
       "    <tr>\n",
       "      <th>997</th>\n",
       "      <td>Overall I was not impressed and would not go b...</td>\n",
       "      <td>0</td>\n",
       "    </tr>\n",
       "    <tr>\n",
       "      <th>998</th>\n",
       "      <td>The whole experience was underwhelming, and I ...</td>\n",
       "      <td>0</td>\n",
       "    </tr>\n",
       "    <tr>\n",
       "      <th>999</th>\n",
       "      <td>Then, as if I hadn't wasted enough of my life ...</td>\n",
       "      <td>0</td>\n",
       "    </tr>\n",
       "  </tbody>\n",
       "</table>\n",
       "<p>1000 rows × 2 columns</p>\n",
       "</div>"
      ],
      "text/plain": [
       "                                                Review  Liked\n",
       "0                             Wow... Loved this place.      1\n",
       "1                                   Crust is not good.      0\n",
       "2            Not tasty and the texture was just nasty.      0\n",
       "3    Stopped by during the late May bank holiday of...      1\n",
       "4    The selection on the menu was great and so wer...      1\n",
       "..                                                 ...    ...\n",
       "995  I think food should have flavor and texture an...      0\n",
       "996                           Appetite instantly gone.      0\n",
       "997  Overall I was not impressed and would not go b...      0\n",
       "998  The whole experience was underwhelming, and I ...      0\n",
       "999  Then, as if I hadn't wasted enough of my life ...      0\n",
       "\n",
       "[1000 rows x 2 columns]"
      ]
     },
     "execution_count": 11,
     "metadata": {},
     "output_type": "execute_result"
    }
   ],
   "source": [
    "df"
   ]
  },
  {
   "cell_type": "code",
   "execution_count": 12,
   "id": "f9c943fc",
   "metadata": {},
   "outputs": [],
   "source": [
    "review_restaurant = []\n",
    "for i in range(1000):\n",
    "    review = re.sub('[^a-zA-Z]',' ', df['Review'][i])\n",
    "    review = review.lower()\n",
    "    review = review.split()\n",
    "    ps = PorterStemmer()\n",
    "    review = [ ps.stem(word) for word in review if not word in stopwords.words('english') ]\n",
    "    review = \" \".join(review)\n",
    "    #print(review)\n",
    "    review_restaurant.append(review)"
   ]
  },
  {
   "cell_type": "code",
   "execution_count": 13,
   "id": "cf56707c",
   "metadata": {},
   "outputs": [
    {
     "data": {
      "text/plain": [
       "str"
      ]
     },
     "execution_count": 13,
     "metadata": {},
     "output_type": "execute_result"
    }
   ],
   "source": [
    "type(review)"
   ]
  },
  {
   "cell_type": "code",
   "execution_count": 14,
   "id": "faf8bc85",
   "metadata": {},
   "outputs": [
    {
     "data": {
      "text/plain": [
       "['wow love place',\n",
       " 'crust good',\n",
       " 'tasti textur nasti',\n",
       " 'stop late may bank holiday rick steve recommend love',\n",
       " 'select menu great price',\n",
       " 'get angri want damn pho',\n",
       " 'honeslti tast fresh',\n",
       " 'potato like rubber could tell made ahead time kept warmer',\n",
       " 'fri great',\n",
       " 'great touch',\n",
       " 'servic prompt',\n",
       " 'would go back',\n",
       " 'cashier care ever say still end wayyy overpr',\n",
       " 'tri cape cod ravoli chicken cranberri mmmm',\n",
       " 'disgust pretti sure human hair',\n",
       " 'shock sign indic cash',\n",
       " 'highli recommend',\n",
       " 'waitress littl slow servic',\n",
       " 'place worth time let alon vega',\n",
       " 'like',\n",
       " 'burritto blah',\n",
       " 'food amaz',\n",
       " 'servic also cute',\n",
       " 'could care less interior beauti',\n",
       " 'perform',\n",
       " 'right red velvet cake ohhh stuff good',\n",
       " 'never brought salad ask',\n",
       " 'hole wall great mexican street taco friendli staff',\n",
       " 'took hour get food tabl restaur food luke warm sever run around like total overwhelm',\n",
       " 'worst salmon sashimi',\n",
       " 'also combo like burger fri beer decent deal',\n",
       " 'like final blow',\n",
       " 'found place accid could happier',\n",
       " 'seem like good quick place grab bite familiar pub food favor look elsewher',\n",
       " 'overal like place lot',\n",
       " 'redeem qualiti restaur inexpens',\n",
       " 'ampl portion good price',\n",
       " 'poor servic waiter made feel like stupid everi time came tabl',\n",
       " 'first visit hiro delight',\n",
       " 'servic suck',\n",
       " 'shrimp tender moist',\n",
       " 'deal good enough would drag establish',\n",
       " 'hard judg whether side good gross melt styrofoam want eat fear get sick',\n",
       " 'posit note server attent provid great servic',\n",
       " 'frozen puck disgust worst peopl behind regist',\n",
       " 'thing like prime rib dessert section',\n",
       " 'bad food damn gener',\n",
       " 'burger good beef cook right',\n",
       " 'want sandwich go firehous',\n",
       " 'side greek salad greek dress tasti pita hummu refresh',\n",
       " 'order duck rare pink tender insid nice char outsid',\n",
       " 'came run us realiz husband left sunglass tabl',\n",
       " 'chow mein good',\n",
       " 'horribl attitud toward custom talk one custom enjoy food',\n",
       " 'portion huge',\n",
       " 'love friendli server great food wonder imagin menu',\n",
       " 'heart attack grill downtown vega absolut flat line excus restaur',\n",
       " 'much seafood like string pasta bottom',\n",
       " 'salad right amount sauc power scallop perfectli cook',\n",
       " 'rip banana rip petrifi tasteless',\n",
       " 'least think refil water struggl wave minut',\n",
       " 'place receiv star appet',\n",
       " 'cocktail handmad delici',\n",
       " 'definit go back',\n",
       " 'glad found place',\n",
       " 'great food servic huge portion give militari discount',\n",
       " 'alway great time do gringo',\n",
       " 'updat went back second time still amaz',\n",
       " 'got food appar never heard salt batter fish chewi',\n",
       " 'great way finish great',\n",
       " 'deal includ tast drink jeff went beyond expect',\n",
       " 'realli realli good rice time',\n",
       " 'servic meh',\n",
       " 'took min get milkshak noth chocol milk',\n",
       " 'guess known place would suck insid excalibur use common sens',\n",
       " 'scallop dish quit appal valu well',\n",
       " 'time bad custom servic',\n",
       " 'sweet potato fri good season well',\n",
       " 'today second time lunch buffet pretti good',\n",
       " 'much good food vega feel cheat wast eat opportun go rice compani',\n",
       " 'come like experienc underwhelm relationship parti wait person ask break',\n",
       " 'walk place smell like old greas trap other eat',\n",
       " 'turkey roast beef bland',\n",
       " 'place',\n",
       " 'pan cake everyon rave tast like sugari disast tailor palat six year old',\n",
       " 'love pho spring roll oh yummi tri',\n",
       " 'poor batter meat ratio made chicken tender unsatisfi',\n",
       " 'say food amaz',\n",
       " 'omelet die',\n",
       " 'everyth fresh delici',\n",
       " 'summari larg disappoint dine experi',\n",
       " 'like realli sexi parti mouth outrag flirt hottest person parti',\n",
       " 'never hard rock casino never ever step forward',\n",
       " 'best breakfast buffet',\n",
       " 'say bye bye tip ladi',\n",
       " 'never go',\n",
       " 'back',\n",
       " 'food arriv quickli',\n",
       " 'good',\n",
       " 'side cafe serv realli good food',\n",
       " 'server fantast found wife love roast garlic bone marrow ad extra meal anoth marrow go',\n",
       " 'good thing waiter help kept bloddi mari come',\n",
       " 'best buffet town price cannot beat',\n",
       " 'love mussel cook wine reduct duck tender potato dish delici',\n",
       " 'one better buffet',\n",
       " 'went tigerlilli fantast afternoon',\n",
       " 'food delici bartend attent person got great deal',\n",
       " 'ambienc wonder music play',\n",
       " 'go back next trip',\n",
       " 'sooooo good',\n",
       " 'real sushi lover let honest yama good',\n",
       " 'least min pass us order food arriv busi',\n",
       " 'realli fantast thai restaur definit worth visit',\n",
       " 'nice spici tender',\n",
       " 'good price',\n",
       " 'check',\n",
       " 'pretti gross',\n",
       " 'better atmospher',\n",
       " 'kind hard mess steak',\n",
       " 'although much like look sound place actual experi bit disappoint',\n",
       " 'know place manag serv blandest food ever eaten prepar indian cuisin',\n",
       " 'worst servic boot least worri',\n",
       " 'servic fine waitress friendli',\n",
       " 'guy steak steak love son steak best worst place said best steak ever eaten',\n",
       " 'thought ventur away get good sushi place realli hit spot night',\n",
       " 'host staff lack better word bitch',\n",
       " 'bland like place number reason want wast time bad review leav',\n",
       " 'phenomen food servic ambianc',\n",
       " 'return',\n",
       " 'definit worth ventur strip pork belli return next time vega',\n",
       " 'place way overpr mediocr food',\n",
       " 'penn vodka excel',\n",
       " 'good select food includ massiv meatloaf sandwich crispi chicken wrap delish tuna melt tasti burger',\n",
       " 'manag rude',\n",
       " 'delici nyc bagel good select cream chees real lox caper even',\n",
       " 'great subway fact good come everi subway meet expect',\n",
       " 'serious solid breakfast',\n",
       " 'one best bar food vega',\n",
       " 'extrem rude realli mani restaur would love dine weekend vega',\n",
       " 'drink never empti made realli great menu suggest',\n",
       " '',\n",
       " 'waiter help friendli rare check us',\n",
       " 'husband ate lunch disappoint food servic',\n",
       " 'red curri much bamboo shoot tasti',\n",
       " 'nice blanket moz top feel like done cover subpar food',\n",
       " 'bathroom clean place well decor',\n",
       " 'menu alway chang food qualiti go servic extrem slow',\n",
       " 'servic littl slow consid serv peopl server food come slow pace',\n",
       " 'give thumb',\n",
       " 'watch waiter pay lot attent tabl ignor us',\n",
       " 'fianc came middl day greet seat right away',\n",
       " 'great restaur mandalay bay',\n",
       " 'wait forti five minut vain',\n",
       " 'crostini came salad stale',\n",
       " 'highlight great qualiti nigiri',\n",
       " 'staff friendli joint alway clean',\n",
       " 'differ cut piec day still wonder tender well well flavor',\n",
       " 'order voodoo pasta first time realli excel pasta sinc go gluten free sever year ago',\n",
       " 'place good',\n",
       " 'unfortun must hit bakeri leftov day everyth order stale',\n",
       " 'came back today sinc reloc still impress',\n",
       " 'seat immedi',\n",
       " 'menu divers reason price',\n",
       " 'avoid cost',\n",
       " 'restaur alway full never wait',\n",
       " 'delici',\n",
       " 'place hand one best place eat phoenix metro area',\n",
       " 'go look good food',\n",
       " 'never treat bad',\n",
       " 'bacon hella salti',\n",
       " 'also order spinach avocado salad ingredi sad dress liter zero tast',\n",
       " 'realli vega fine dine use right menu hand ladi price list',\n",
       " 'waitress friendli',\n",
       " 'lordi khao soi dish miss curri lover',\n",
       " 'everyth menu terrif also thrill made amaz accommod vegetarian daughter',\n",
       " 'perhap caught night judg review inspir go back',\n",
       " 'servic leav lot desir',\n",
       " 'atmospher modern hip maintain touch cozi',\n",
       " 'weekli haunt definit place come back everi',\n",
       " 'liter sat minut one ask take order',\n",
       " 'burger absolut flavor meat total bland burger overcook charcoal flavor',\n",
       " 'also decid send back waitress look like verg heart attack',\n",
       " 'dress treat rude',\n",
       " 'probabl dirt',\n",
       " 'love place hit spot want someth healthi lack quantiti flavor',\n",
       " 'order lemon raspberri ice cocktail also incred',\n",
       " 'food suck expect suck could imagin',\n",
       " 'interest decor',\n",
       " 'realli like crepe station',\n",
       " 'also serv hot bread butter home made potato chip bacon bit top origin good',\n",
       " 'watch prepar delici food',\n",
       " 'egg roll fantast',\n",
       " 'order arriv one gyro miss',\n",
       " 'salad wing ice cream dessert left feel quit satisfi',\n",
       " 'realli sure joey vote best hot dog valley reader phoenix magazin',\n",
       " 'best place go tasti bowl pho',\n",
       " 'live music friday total blow',\n",
       " 'never insult felt disrespect',\n",
       " 'friendli staff',\n",
       " 'worth drive',\n",
       " 'heard good thing place exceed everi hope could dream',\n",
       " 'food great serivc',\n",
       " 'warm beer help',\n",
       " 'great brunch spot',\n",
       " 'servic friendli invit',\n",
       " 'good lunch spot',\n",
       " 'live sinc first last time step foot place',\n",
       " 'worst experi ever',\n",
       " 'must night place',\n",
       " 'side delish mix mushroom yukon gold pure white corn beateou',\n",
       " 'bug never show would given sure side wall bug climb kitchen',\n",
       " 'minut wait salad realiz come time soon',\n",
       " 'friend love salmon tartar',\n",
       " 'go back',\n",
       " 'extrem tasti',\n",
       " 'waitress good though',\n",
       " 'soggi good',\n",
       " 'jamaican mojito delici',\n",
       " 'small worth price',\n",
       " 'food rich order accordingli',\n",
       " 'shower area outsid rins take full shower unless mind nude everyon see',\n",
       " 'servic bit lack',\n",
       " 'lobster bisqu bussel sprout risotto filet need salt pepper cours none tabl',\n",
       " 'hope bode go busi someon cook come',\n",
       " 'either cold enough flavor bad',\n",
       " 'love bacon wrap date',\n",
       " 'unbeliev bargain',\n",
       " 'folk otto alway make us feel welcom special',\n",
       " 'main also uninspir',\n",
       " 'place first pho amaz',\n",
       " 'wonder experi made place must stop whenev town',\n",
       " 'food bad enough enjoy deal world worst annoy drunk peopl',\n",
       " 'fun chef',\n",
       " 'order doubl cheeseburg got singl patti fall apart pictur upload yeah still suck',\n",
       " 'great place coupl drink watch sport event wall cover tv',\n",
       " 'possibl give zero star',\n",
       " 'descript said yum yum sauc anoth said eel sauc yet anoth said spici mayo well none roll sauc',\n",
       " 'say would hardest decis honestli dish tast suppos tast amaz',\n",
       " 'roll eye may stay sure go back tri',\n",
       " 'everyon attent provid excel custom servic',\n",
       " 'horribl wast time money',\n",
       " 'dish quit flavour',\n",
       " 'time side restaur almost empti excus',\n",
       " 'busi either also build freez cold',\n",
       " 'like review said pay eat place',\n",
       " 'drink took close minut come one point',\n",
       " 'serious flavor delight folk',\n",
       " 'much better ayc sushi place went vega',\n",
       " 'light dark enough set mood',\n",
       " 'base sub par servic receiv effort show gratitud busi go back',\n",
       " 'owner realli great peopl',\n",
       " 'noth privileg work eat',\n",
       " 'greek dress creami flavor',\n",
       " 'overal think would take parent place made similar complaint silent felt',\n",
       " 'pizza good peanut sauc tasti',\n",
       " 'tabl servic pretti fast',\n",
       " 'fantast servic',\n",
       " 'well would given godfath zero star possibl',\n",
       " 'know make',\n",
       " 'tough short flavor',\n",
       " 'hope place stick around',\n",
       " 'bar vega ever recal charg tap water',\n",
       " 'restaur atmospher exquisit',\n",
       " 'good servic clean inexpens boot',\n",
       " 'seafood fresh gener portion',\n",
       " 'plu buck',\n",
       " 'servic par either',\n",
       " 'thu far visit twice food absolut delici time',\n",
       " 'good year ago',\n",
       " 'self proclaim coffe cafe wildli disappoint',\n",
       " 'veggitarian platter world',\n",
       " 'cant go wrong food',\n",
       " 'beat',\n",
       " 'stop place madison ironman friendli kind staff',\n",
       " 'chef friendli good job',\n",
       " 'better dedic boba tea spot even jenni pho',\n",
       " 'like patio servic outstand',\n",
       " 'goat taco skimp meat wow flavor',\n",
       " 'think',\n",
       " 'mac salad pretti bland get',\n",
       " 'went bachi burger friend recommend disappoint',\n",
       " 'servic stink',\n",
       " 'wait wait',\n",
       " 'place qualiti sushi qualiti restaur',\n",
       " 'would definit recommend wing well pizza',\n",
       " 'great pizza salad',\n",
       " 'thing went wrong burn saganaki',\n",
       " 'wait hour breakfast could done time better home',\n",
       " 'place amaz',\n",
       " 'hate disagre fellow yelper husband disappoint place',\n",
       " 'wait hour never got either pizza mani around us came later',\n",
       " 'know slow',\n",
       " 'staff great food delish incred beer select',\n",
       " 'live neighborhood disappoint back conveni locat',\n",
       " 'know pull pork could soooo delici',\n",
       " 'get incred fresh fish prepar care',\n",
       " 'go gave star rate pleas know third time eat bachi burger write review',\n",
       " 'love fact everyth menu worth',\n",
       " 'never dine place',\n",
       " 'food excel servic good',\n",
       " 'good beer drink select good food select',\n",
       " 'pleas stay away shrimp stir fri noodl',\n",
       " 'potato chip order sad could probabl count mani chip box probabl around',\n",
       " 'food realli bore',\n",
       " 'good servic check',\n",
       " 'greedi corpor never see anoth dime',\n",
       " 'never ever go back',\n",
       " 'much like go back get pass atroci servic never return',\n",
       " 'summer dine charm outdoor patio delight',\n",
       " 'expect good',\n",
       " 'fantast food',\n",
       " 'order toast english muffin came untoast',\n",
       " 'food good',\n",
       " 'never go back',\n",
       " 'great food price high qualiti hous made',\n",
       " 'bu boy hand rude',\n",
       " 'point friend basic figur place joke mind make publicli loudli known',\n",
       " 'back good bbq lighter fare reason price tell public back old way',\n",
       " 'consid two us left full happi go wrong',\n",
       " 'bread made hous',\n",
       " 'downsid servic',\n",
       " 'also fri without doubt worst fri ever',\n",
       " 'servic except food good review',\n",
       " 'coupl month later return amaz meal',\n",
       " 'favorit place town shawarrrrrrma',\n",
       " 'black eye pea sweet potato unreal',\n",
       " 'disappoint',\n",
       " 'could serv vinaigrett may make better overal dish still good',\n",
       " 'go far mani place never seen restaur serv egg breakfast especi',\n",
       " 'mom got home immedi got sick bite salad',\n",
       " 'server pleasant deal alway honor pizza hut coupon',\n",
       " 'truli unbeliev good glad went back',\n",
       " 'fantast servic pleas atmospher',\n",
       " 'everyth gross',\n",
       " 'love place',\n",
       " 'great servic food',\n",
       " 'first bathroom locat dirti seat cover replenish plain yucki',\n",
       " 'burger got gold standard burger kind disappoint',\n",
       " 'omg food delicioso',\n",
       " 'noth authent place',\n",
       " 'spaghetti noth special whatsoev',\n",
       " 'dish salmon best great',\n",
       " 'veget fresh sauc feel like authent thai',\n",
       " 'worth drive tucson',\n",
       " 'select probabl worst seen vega none',\n",
       " 'pretti good beer select',\n",
       " 'place like chipotl better',\n",
       " 'classi warm atmospher fun fresh appet succul steak basebal steak',\n",
       " 'star brick oven bread app',\n",
       " 'eaten multipl time time food delici',\n",
       " 'sat anoth ten minut final gave left',\n",
       " 'terribl',\n",
       " 'everyon treat equal special',\n",
       " 'take min pancak egg',\n",
       " 'delici',\n",
       " 'good side staff genuin pleasant enthusiast real treat',\n",
       " 'sadli gordon ramsey steak place shall sharpli avoid next trip vega',\n",
       " 'alway even wonder food delici',\n",
       " 'best fish ever life',\n",
       " 'bathroom next door nice',\n",
       " 'buffet small food offer bland',\n",
       " 'outstand littl restaur best food ever tast',\n",
       " 'pretti cool would say',\n",
       " 'definit turn doubt back unless someon els buy',\n",
       " 'server great job handl larg rowdi tabl',\n",
       " 'find wast food despic food',\n",
       " 'wife lobster bisqu soup lukewarm',\n",
       " 'would come back sushi crave vega',\n",
       " 'staff great ambianc great',\n",
       " 'deserv star',\n",
       " 'left stomach ach felt sick rest day',\n",
       " 'drop ball',\n",
       " 'dine space tini elegantli decor comfort',\n",
       " 'custom order way like usual eggplant green bean stir fri love',\n",
       " 'bean rice mediocr best',\n",
       " 'best taco town far',\n",
       " 'took back money got outta',\n",
       " 'interest part town place amaz',\n",
       " 'rude inconsider manag',\n",
       " 'staff friendli wait time serv horribl one even say hi first minut',\n",
       " 'back',\n",
       " 'great dinner',\n",
       " 'servic outshin definit recommend halibut',\n",
       " 'food terribl',\n",
       " 'never ever go back told mani peopl happen',\n",
       " 'recommend unless car break front starv',\n",
       " 'come back everi time vega',\n",
       " 'place deserv one star food',\n",
       " 'disgrac',\n",
       " 'def come back bowl next time',\n",
       " 'want healthi authent ethic food tri place',\n",
       " 'continu come ladi night andddd date night highli recommend place anyon area',\n",
       " 'sever time past experi alway great',\n",
       " 'walk away stuf happi first vega buffet experi',\n",
       " 'servic excel price pretti reason consid vega locat insid crystal shop mall aria',\n",
       " 'summar food incred nay transcend noth bring joy quit like memori pneumat condiment dispens',\n",
       " 'probabl one peopl ever go ian like',\n",
       " 'kid pizza alway hit lot great side dish option kiddo',\n",
       " 'servic perfect famili atmospher nice see',\n",
       " 'cook perfect servic impecc',\n",
       " 'one simpli disappoint',\n",
       " 'overal disappoint qualiti food bouchon',\n",
       " 'account know get screw',\n",
       " 'great place eat remind littl mom pop shop san francisco bay area',\n",
       " 'today first tast buldogi gourmet hot dog tell ever thought possibl',\n",
       " 'left frustrat',\n",
       " 'definit soon',\n",
       " 'food realli good got full petti fast',\n",
       " 'servic fantast',\n",
       " 'total wast time',\n",
       " 'know kind best ice tea',\n",
       " 'come hungri leav happi stuf',\n",
       " 'servic give star',\n",
       " 'assur disappoint',\n",
       " 'take littl bad servic food suck',\n",
       " 'gave tri eat crust teeth still sore',\n",
       " 'complet gross',\n",
       " 'realli enjoy eat',\n",
       " 'first time go think quickli becom regular',\n",
       " 'server nice even though look littl overwhelm need stay profession friendli end',\n",
       " 'dinner companion told everyth fresh nice textur tast',\n",
       " 'ground right next tabl larg smear step track everywher pile green bird poop',\n",
       " 'furthermor even find hour oper websit',\n",
       " 'tri like place time think done',\n",
       " 'mistak',\n",
       " 'complaint',\n",
       " 'serious good pizza expert connisseur topic',\n",
       " 'waiter jerk',\n",
       " 'strike want rush',\n",
       " 'nicest restaur owner ever come across',\n",
       " 'never come',\n",
       " 'love biscuit',\n",
       " 'servic quick friendli',\n",
       " 'order appet took minut pizza anoth minut',\n",
       " 'absolutley fantast',\n",
       " 'huge awkward lb piec cow th gristl fat',\n",
       " 'definit come back',\n",
       " 'like steiner dark feel like bar',\n",
       " 'wow spici delici',\n",
       " 'familiar check',\n",
       " 'take busi dinner dollar elsewher',\n",
       " 'love go back',\n",
       " 'anyway fs restaur wonder breakfast lunch',\n",
       " 'noth special',\n",
       " 'day week differ deal delici',\n",
       " 'mention combin pear almond bacon big winner',\n",
       " 'back',\n",
       " 'sauc tasteless',\n",
       " 'food delici spici enough sure ask spicier prefer way',\n",
       " 'ribey steak cook perfectli great mesquit flavor',\n",
       " 'think go back anytim soon',\n",
       " 'food gooodd',\n",
       " 'far sushi connoisseur definit tell differ good food bad food certainli bad food',\n",
       " 'insult',\n",
       " 'last time lunch bad',\n",
       " 'chicken wing contain driest chicken meat ever eaten',\n",
       " 'food good enjoy everi mouth enjoy relax venu coupl small famili group etc',\n",
       " 'nargil think great',\n",
       " 'best tater tot southwest',\n",
       " 'love place',\n",
       " 'definit worth paid',\n",
       " 'vanilla ice cream creami smooth profiterol choux pastri fresh enough',\n",
       " 'im az time new spot',\n",
       " 'manag worst',\n",
       " 'insid realli quit nice clean',\n",
       " 'food outstand price reason',\n",
       " 'think run back carli anytim soon food',\n",
       " 'due fact took minut acknowledg anoth minut get food kept forget thing',\n",
       " 'love margarita',\n",
       " 'first vega buffet disappoint',\n",
       " 'good though',\n",
       " 'one note ventil could use upgrad',\n",
       " 'great pork sandwich',\n",
       " 'wast time',\n",
       " 'total letdown would much rather go camelback flower shop cartel coffe',\n",
       " 'third chees friend burger cold',\n",
       " 'enjoy pizza brunch',\n",
       " 'steak well trim also perfectli cook',\n",
       " 'group claim would handl us beauti',\n",
       " 'love',\n",
       " 'ask bill leav without eat bring either',\n",
       " 'place jewel la vega exactli hope find nearli ten year live',\n",
       " 'seafood limit boil shrimp crab leg crab leg definit tast fresh',\n",
       " 'select food best',\n",
       " 'delici absolut back',\n",
       " 'small famili restaur fine dine establish',\n",
       " 'toro tartar cavier extraordinari like thinli slice wagyu white truffl',\n",
       " 'dont think back long time',\n",
       " 'attach ga station rare good sign',\n",
       " 'awesom',\n",
       " 'back mani time soon',\n",
       " 'menu much good stuff could decid',\n",
       " 'wors humili worker right front bunch horribl name call',\n",
       " 'conclus fill meal',\n",
       " 'daili special alway hit group',\n",
       " 'tragedi struck',\n",
       " 'pancak also realli good pretti larg',\n",
       " 'first crawfish experi delici',\n",
       " 'monster chicken fri steak egg time favorit',\n",
       " 'waitress sweet funni',\n",
       " 'also tast mom multi grain pumpkin pancak pecan butter amaz fluffi delici',\n",
       " 'rather eat airlin food serious',\n",
       " 'cant say enough good thing place',\n",
       " 'ambianc incred',\n",
       " 'waitress manag friendli',\n",
       " 'would recommend place',\n",
       " 'overal impress noca',\n",
       " 'gyro basic lettuc',\n",
       " 'terribl servic',\n",
       " 'thoroughli disappoint',\n",
       " 'much pasta love homemad hand made pasta thin pizza',\n",
       " 'give tri happi',\n",
       " 'far best cheesecurd ever',\n",
       " 'reason price also',\n",
       " 'everyth perfect night',\n",
       " 'food good typic bar food',\n",
       " 'drive get',\n",
       " 'first glanc love bakeri cafe nice ambianc clean friendli staff',\n",
       " 'anyway think go back',\n",
       " 'point finger item menu order disappoint',\n",
       " 'oh thing beauti restaur',\n",
       " 'gone go',\n",
       " 'greasi unhealthi meal',\n",
       " 'first time might last',\n",
       " 'burger amaz',\n",
       " 'similarli deliveri man say word apolog food minut late',\n",
       " 'way expens',\n",
       " 'sure order dessert even need pack go tiramisu cannoli die',\n",
       " 'first time wait next',\n",
       " 'bartend also nice',\n",
       " 'everyth good tasti',\n",
       " 'place two thumb way',\n",
       " 'best place vega breakfast check sat sun',\n",
       " 'love authent mexican food want whole bunch interest yet delici meat choos need tri place',\n",
       " 'terribl manag',\n",
       " 'excel new restaur experienc frenchman',\n",
       " 'zero star would give zero star',\n",
       " 'great steak great side great wine amaz dessert',\n",
       " 'worst martini ever',\n",
       " 'steak shrimp opinion best entre gc',\n",
       " 'opportun today sampl amaz pizza',\n",
       " 'wait thirti minut seat although vacant tabl folk wait',\n",
       " 'yellowtail carpaccio melt mouth fresh',\n",
       " 'tri go back even empti',\n",
       " 'go eat potato found stranger hair',\n",
       " 'spici enough perfect actual',\n",
       " 'last night second time dine happi decid go back',\n",
       " 'even hello right',\n",
       " 'dessert bit strang',\n",
       " 'boyfriend came first time recent trip vega could pleas qualiti food servic',\n",
       " 'realli recommend place go wrong donut place',\n",
       " 'nice ambianc',\n",
       " 'would recommend save room',\n",
       " 'guess mayb went night disgrac',\n",
       " 'howev recent experi particular locat good',\n",
       " 'know like restaur someth',\n",
       " 'avoid establish',\n",
       " 'think restaur suffer tri hard enough',\n",
       " 'tapa dish delici',\n",
       " 'heart place',\n",
       " 'salad bland vinegrett babi green heart palm',\n",
       " 'two felt disgust',\n",
       " 'good time',\n",
       " 'believ place great stop huge belli hanker sushi',\n",
       " 'gener portion great tast',\n",
       " 'never go back place never ever recommend place anyon',\n",
       " 'server went back forth sever time even much help',\n",
       " 'food delici',\n",
       " 'hour serious',\n",
       " 'consid theft',\n",
       " 'eew locat need complet overhaul',\n",
       " 'recent wit poor qualiti manag toward guest well',\n",
       " 'wait wait wait',\n",
       " 'also came back check us regularli excel servic',\n",
       " 'server super nice check us mani time',\n",
       " 'pizza tast old super chewi good way',\n",
       " 'swung give tri deepli disappoint',\n",
       " 'servic good compani better',\n",
       " 'staff also friendli effici',\n",
       " 'servic fan quick serv nice folk',\n",
       " 'boy sucker dri',\n",
       " 'rate',\n",
       " 'look authent thai food go els',\n",
       " 'steak recommend',\n",
       " 'pull car wait anoth minut acknowledg',\n",
       " 'great food great servic clean friendli set',\n",
       " 'assur back',\n",
       " 'hate thing much cheap qualiti black oliv',\n",
       " 'breakfast perpar great beauti present giant slice toast lightli dust powder sugar',\n",
       " 'kid play area nasti',\n",
       " 'great place fo take eat',\n",
       " 'waitress friendli happi accomod vegan veggi option',\n",
       " 'omg felt like never eaten thai food dish',\n",
       " 'extrem crumbi pretti tasteless',\n",
       " 'pale color instead nice char flavor',\n",
       " 'crouton also tast homemad extra plu',\n",
       " 'got home see driest damn wing ever',\n",
       " 'regular stop trip phoenix',\n",
       " 'realli enjoy crema caf expand even told friend best breakfast',\n",
       " 'good money',\n",
       " 'miss wish one philadelphia',\n",
       " 'got sit fairli fast end wait minut place order anoth minut food arriv',\n",
       " 'also best chees crisp town',\n",
       " 'good valu great food great servic',\n",
       " 'ask satisfi meal',\n",
       " 'food good',\n",
       " 'awesom',\n",
       " 'want leav',\n",
       " 'made drive way north scottsdal one bit disappoint',\n",
       " 'eat',\n",
       " 'owner realli realli need quit soooooo cheap let wrap freak sandwich two paper one',\n",
       " 'check place coupl year ago impress',\n",
       " 'chicken got definit reheat ok wedg cold soggi',\n",
       " 'sorri get food anytim soon',\n",
       " 'absolut must visit',\n",
       " 'cow tongu cheek taco amaz',\n",
       " 'friend like bloodi mari',\n",
       " 'despit hard rate busi actual rare give star',\n",
       " 'realli want make experi good one',\n",
       " 'return',\n",
       " 'chicken pho tast bland',\n",
       " 'disappoint',\n",
       " 'grill chicken tender yellow saffron season',\n",
       " 'drive thru mean want wait around half hour food somehow end go make us wait wait',\n",
       " 'pretti awesom place',\n",
       " 'ambienc perfect',\n",
       " 'best luck rude non custom servic focus new manag',\n",
       " 'grandmoth make roast chicken better one',\n",
       " 'ask multipl time wine list time ignor went hostess got one',\n",
       " 'staff alway super friendli help especi cool bring two small boy babi',\n",
       " 'four star food guy blue shirt great vibe still let us eat',\n",
       " 'roast beef sandwich tast realli good',\n",
       " 'even drastic sick',\n",
       " 'high qualiti chicken chicken caesar salad',\n",
       " 'order burger rare came done',\n",
       " 'promptli greet seat',\n",
       " 'tri go lunch madhous',\n",
       " 'proven dead wrong sushi bar qualiti great servic fast food impecc',\n",
       " 'wait hour seat greatest mood',\n",
       " 'good joint',\n",
       " 'macaron insan good',\n",
       " 'eat',\n",
       " 'waiter attent friendli inform',\n",
       " 'mayb cold would somewhat edibl',\n",
       " 'place lot promis fail deliv',\n",
       " 'bad experi',\n",
       " 'mistak',\n",
       " 'food averag best',\n",
       " 'great food',\n",
       " 'go back anytim soon',\n",
       " 'disappoint order big bay plater',\n",
       " 'great place relax awesom burger beer',\n",
       " 'perfect sit famili meal get togeth friend',\n",
       " 'much flavor poorli construct',\n",
       " 'patio seat comfort',\n",
       " 'fri rice dri well',\n",
       " 'hand favorit italian restaur',\n",
       " 'scream legit book somethat also pretti rare vega',\n",
       " 'fun experi',\n",
       " 'atmospher great love duo violinist play song request',\n",
       " 'person love hummu pita baklava falafel baba ganoush amaz eggplant',\n",
       " 'conveni sinc stay mgm',\n",
       " 'owner super friendli staff courteou',\n",
       " 'great',\n",
       " 'eclect select',\n",
       " 'sweet potato tot good onion ring perfect close',\n",
       " 'staff attent',\n",
       " 'chef gener time even came around twice take pictur',\n",
       " 'owner use work nobu place realli similar half price',\n",
       " 'googl mediocr imagin smashburg pop',\n",
       " 'dont go',\n",
       " 'promis disappoint',\n",
       " 'sushi lover avoid place mean',\n",
       " 'great doubl cheeseburg',\n",
       " 'awesom servic food',\n",
       " 'fantast neighborhood gem',\n",
       " 'wait go back',\n",
       " 'plantain worst ever tast',\n",
       " 'great place highli recommend',\n",
       " 'servic slow attent',\n",
       " 'gave star give star',\n",
       " 'staff spend time talk',\n",
       " 'dessert panna cotta amaz',\n",
       " 'good food great atmospher',\n",
       " 'damn good steak',\n",
       " 'total brunch fail',\n",
       " 'price reason flavor spot sauc home made slaw drench mayo',\n",
       " 'decor nice piano music soundtrack pleasant',\n",
       " 'steak amaz rge fillet relleno best seafood plate ever',\n",
       " 'good food good servic',\n",
       " 'absolut amaz',\n",
       " 'probabl back honest',\n",
       " 'definit back',\n",
       " 'sergeant pepper beef sandwich auju sauc excel sandwich well',\n",
       " 'hawaiian breez mango magic pineappl delight smoothi tri far good',\n",
       " 'went lunch servic slow',\n",
       " 'much say place walk expect amaz quickli disappoint',\n",
       " 'mortifi',\n",
       " 'needless say never back',\n",
       " 'anyway food definit fill price pay expect',\n",
       " 'chip came drip greas mostli edibl',\n",
       " 'realli impress strip steak',\n",
       " 'go sinc everi meal awesom',\n",
       " 'server nice attent serv staff',\n",
       " 'cashier friendli even brought food',\n",
       " 'work hospit industri paradis valley refrain recommend cibo longer',\n",
       " 'atmospher fun',\n",
       " 'would recommend other',\n",
       " 'servic quick even go order like like',\n",
       " 'mean realli get famou fish chip terribl',\n",
       " 'said mouth belli still quit pleas',\n",
       " 'thing',\n",
       " 'thumb',\n",
       " 'read pleas go',\n",
       " 'love grill pizza remind legit italian pizza',\n",
       " 'pro larg seat area nice bar area great simpl drink menu best brick oven pizza homemad dough',\n",
       " 'realli nice atmospher',\n",
       " 'tonight elk filet special suck',\n",
       " 'one bite hook',\n",
       " 'order old classic new dish go time sore disappoint everyth',\n",
       " 'cute quaint simpl honest',\n",
       " 'chicken delici season perfect fri outsid moist chicken insid',\n",
       " 'food great alway compliment chef',\n",
       " 'special thank dylan recommend order yummi tummi',\n",
       " 'awesom select beer',\n",
       " 'great food awesom servic',\n",
       " 'one nice thing ad gratuiti bill sinc parti larger expect tip',\n",
       " 'fli appl juic fli',\n",
       " 'han nan chicken also tasti',\n",
       " 'servic thought good',\n",
       " 'food bare lukewarm must sit wait server bring us',\n",
       " 'ryan bar definit one edinburgh establish revisit',\n",
       " 'nicest chines restaur',\n",
       " 'overal like food servic',\n",
       " 'also serv indian naan bread hummu spici pine nut sauc world',\n",
       " 'probabl never come back recommend',\n",
       " 'friend pasta also bad bare touch',\n",
       " 'tri airport experi tasti food speedi friendli servic',\n",
       " 'love decor chines calligraphi wall paper',\n",
       " 'never anyth complain',\n",
       " 'restaur clean famili restaur feel',\n",
       " 'way fri',\n",
       " 'sure long stood long enough begin feel awkwardli place',\n",
       " 'open sandwich impress good way',\n",
       " 'back',\n",
       " 'warm feel servic felt like guest special treat',\n",
       " 'extens menu provid lot option breakfast',\n",
       " 'alway order vegetarian menu dinner wide array option choos',\n",
       " 'watch price inflat portion get smaller manag attitud grow rapidli',\n",
       " 'wonder lil tapa ambienc made feel warm fuzzi insid',\n",
       " 'got enjoy seafood salad fabul vinegrett',\n",
       " 'wonton thin thick chewi almost melt mouth',\n",
       " 'level spici perfect spice whelm soup',\n",
       " 'sat right time server get go fantast',\n",
       " 'main thing enjoy crowd older crowd around mid',\n",
       " 'side town definit spot hit',\n",
       " 'wait minut get drink longer get arepa',\n",
       " 'great place eat',\n",
       " 'jalapeno bacon soooo good',\n",
       " 'servic poor that nice',\n",
       " 'food good servic good price good',\n",
       " 'place clean food oh stale',\n",
       " 'chicken dish ok beef like shoe leather',\n",
       " 'servic beyond bad',\n",
       " 'happi',\n",
       " 'tast like dirt',\n",
       " 'one place phoenix would defin go back',\n",
       " 'block amaz',\n",
       " 'close hous low key non fanci afford price good food',\n",
       " 'hot sour egg flower soup absolut star',\n",
       " 'sashimi poor qualiti soggi tasteless',\n",
       " 'great time famili dinner sunday night',\n",
       " 'food tasti say real tradit hunan style',\n",
       " 'bother slow servic',\n",
       " 'flair bartend absolut amaz',\n",
       " 'frozen margarita way sugari tast',\n",
       " 'good order twice',\n",
       " 'nutshel restaraunt smell like combin dirti fish market sewer',\n",
       " 'girlfriend veal bad',\n",
       " 'unfortun good',\n",
       " 'pretti satifi experi',\n",
       " 'join club get awesom offer via email',\n",
       " 'perfect someon like beer ice cold case even colder',\n",
       " 'bland flavorless good way describ bare tepid meat',\n",
       " 'chain fan beat place easili',\n",
       " 'nacho must',\n",
       " 'come back',\n",
       " 'mani word say place everyth pretti well',\n",
       " 'staff super nice quick even crazi crowd downtown juri lawyer court staff',\n",
       " 'great atmospher friendli fast servic',\n",
       " 'receiv pita huge lot meat thumb',\n",
       " 'food arriv meh',\n",
       " 'pay hot dog fri look like came kid meal wienerschnitzel idea good meal',\n",
       " 'classic main lobster roll fantast',\n",
       " 'brother law work mall ate day guess sick night',\n",
       " 'good go review place twice herea tribut place tribut event held last night',\n",
       " 'chip salsa realli good salsa fresh',\n",
       " 'place great',\n",
       " 'mediocr food',\n",
       " 'get insid impress place',\n",
       " 'super pissd',\n",
       " 'servic super friendli',\n",
       " 'sad littl veget overcook',\n",
       " 'place nice surpris',\n",
       " 'golden crispi delici',\n",
       " 'high hope place sinc burger cook charcoal grill unfortun tast fell flat way flat',\n",
       " 'could eat bruschetta day devin',\n",
       " 'singl employe came see ok even need water refil final serv us food',\n",
       " 'lastli mozzarella stick best thing order',\n",
       " 'first time ever came amaz experi still tell peopl awesom duck',\n",
       " 'server neglig need made us feel unwelcom would suggest place',\n",
       " 'servic terribl though',\n",
       " 'place overpr consist boba realli overpr',\n",
       " 'pack',\n",
       " 'love place',\n",
       " 'say dessert yummi',\n",
       " 'food terribl',\n",
       " 'season fruit fresh white peach pure',\n",
       " 'kept get wors wors offici done',\n",
       " 'place honestli blown',\n",
       " 'definit would eat',\n",
       " 'wast money',\n",
       " 'love put food nice plastic contain oppos cram littl paper takeout box',\n",
       " 'cr pe delic thin moist',\n",
       " 'aw servic',\n",
       " 'ever go',\n",
       " 'food qualiti horribl',\n",
       " 'price think place would much rather gone',\n",
       " 'servic fair best',\n",
       " 'love sushi found kabuki price hip servic',\n",
       " 'favor stay away dish',\n",
       " 'poor servic',\n",
       " 'one tabl thought food averag worth wait',\n",
       " 'best servic food ever maria server good friendli made day',\n",
       " 'excel',\n",
       " 'paid bill tip felt server terribl job',\n",
       " 'lunch great experi',\n",
       " 'never bland food surpris consid articl read focus much spice flavor',\n",
       " 'food way overpr portion fuck small',\n",
       " 'recent tri caballero back everi week sinc',\n",
       " 'buck head realli expect better food',\n",
       " 'food came good pace',\n",
       " 'ate twice last visit especi enjoy salmon salad',\n",
       " 'back',\n",
       " 'could believ dirti oyster',\n",
       " 'place deserv star',\n",
       " 'would recommend place',\n",
       " 'fact go round star awesom',\n",
       " 'disbelief dish qualifi worst version food ever tast',\n",
       " 'bad day low toler rude custom servic peopl job nice polit wash dish otherwis',\n",
       " 'potato great biscuit',\n",
       " 'probabl would go',\n",
       " 'flavor perfect amount heat',\n",
       " 'price reason servic great',\n",
       " 'wife hate meal coconut shrimp friend realli enjoy meal either',\n",
       " 'fella got huevo ranchero look appeal',\n",
       " 'went happi hour great list wine',\n",
       " 'may say buffet pricey think get pay place get quit lot',\n",
       " 'probabl come back',\n",
       " 'worst food servic',\n",
       " 'place pretti good nice littl vibe restaur',\n",
       " 'talk great custom servic cours back',\n",
       " 'hot dish hot cold dish close room temp watch staff prepar food bare hand glove everyth deep fri oil',\n",
       " 'love fri bean',\n",
       " 'alway pleasur deal',\n",
       " 'plethora salad sandwich everyth tri get seal approv',\n",
       " 'place awesom want someth light healthi summer',\n",
       " 'sushi strip place go',\n",
       " 'servic great even manag came help tabl',\n",
       " 'feel dine room colleg cook cours high class dine servic slow best',\n",
       " 'start review two star edit give one',\n",
       " 'worst sushi ever eat besid costco',\n",
       " 'excel restaur highlight great servic uniqu menu beauti set',\n",
       " 'boyfriend sat bar complet delight experi',\n",
       " 'weird vibe owner',\n",
       " 'hardli meat',\n",
       " 'better bagel groceri store',\n",
       " 'go place gyro',\n",
       " 'love owner chef one authent japanes cool dude',\n",
       " 'burger good pizza use amaz doughi flavorless',\n",
       " 'found six inch long piec wire salsa',\n",
       " 'servic terribl food mediocr',\n",
       " 'defin enjoy',\n",
       " 'order albondiga soup warm tast like tomato soup frozen meatbal',\n",
       " 'three differ occas ask well done medium well three time got bloodiest piec meat plate',\n",
       " 'two bite refus eat anymor',\n",
       " 'servic extrem slow',\n",
       " 'minut wait got tabl',\n",
       " 'serious killer hot chai latt',\n",
       " 'allergi warn menu waitress absolut clue meal contain peanut',\n",
       " 'boyfriend tri mediterranean chicken salad fell love',\n",
       " 'rotat beer tap also highlight place',\n",
       " 'price bit concern mellow mushroom',\n",
       " 'worst thai ever',\n",
       " 'stay vega must get breakfast least',\n",
       " 'want first say server great perfect servic',\n",
       " 'pizza select good',\n",
       " 'strawberri tea good',\n",
       " 'highli unprofession rude loyal patron',\n",
       " 'overal great experi',\n",
       " 'spend money elsewher',\n",
       " 'regular toast bread equal satisfi occasion pat butter mmmm',\n",
       " 'buffet bellagio far anticip',\n",
       " 'drink weak peopl',\n",
       " 'order correct',\n",
       " 'also feel like chip bought made hous',\n",
       " 'disappoint dinner went elsewher dessert',\n",
       " 'chip sal amaz',\n",
       " 'return',\n",
       " 'new fav vega buffet spot',\n",
       " 'serious cannot believ owner mani unexperienc employe run around like chicken head cut',\n",
       " 'sad',\n",
       " 'felt insult disrespect could talk judg anoth human like',\n",
       " 'call steakhous properli cook steak understand',\n",
       " 'impress concept food',\n",
       " 'thing crazi guacamol like pur ed',\n",
       " 'realli noth postino hope experi better',\n",
       " 'got food poison buffet',\n",
       " 'brought fresh batch fri think yay someth warm',\n",
       " 'hilari yummi christma eve dinner rememb biggest fail entir trip us',\n",
       " 'needless say go back anytim soon',\n",
       " 'place disgust',\n",
       " 'everi time eat see care teamwork profession degre',\n",
       " 'ri style calamari joke',\n",
       " 'howev much garlic fondu bare edibl',\n",
       " 'could bare stomach meal complain busi lunch',\n",
       " 'bad lost heart finish',\n",
       " 'also took forev bring us check ask',\n",
       " 'one make scene restaur get definit lost love one',\n",
       " 'disappoint experi',\n",
       " 'food par denni say good',\n",
       " 'want wait mediocr food downright terribl servic place',\n",
       " 'waaaaaayyyyyyyyyi rate say',\n",
       " 'go back',\n",
       " 'place fairli clean food simpli worth',\n",
       " 'place lack style',\n",
       " 'sangria half glass wine full ridicul',\n",
       " 'bother come',\n",
       " 'meat pretti dri slice brisket pull pork',\n",
       " 'build seem pretti neat bathroom pretti trippi eat',\n",
       " 'equal aw',\n",
       " 'probabl hurri go back',\n",
       " 'slow seat even reserv',\n",
       " 'good stretch imagin',\n",
       " 'cashew cream sauc bland veget undercook',\n",
       " 'chipolt ranch dip saus tasteless seem thin water heat',\n",
       " 'bit sweet realli spici enough lack flavor',\n",
       " 'disappoint',\n",
       " 'place horribl way overpr',\n",
       " 'mayb vegetarian fare twice thought averag best',\n",
       " 'busi know',\n",
       " 'tabl outsid also dirti lot time worker alway friendli help menu',\n",
       " 'ambianc feel like buffet set douchey indoor garden tea biscuit',\n",
       " 'con spotti servic',\n",
       " 'fri hot neither burger',\n",
       " 'came back cold',\n",
       " 'food came disappoint ensu',\n",
       " 'real disappoint waiter',\n",
       " 'husband said rude even apolog bad food anyth',\n",
       " 'reason eat would fill night bing drink get carb stomach',\n",
       " 'insult profound deuchebaggeri go outsid smoke break serv solidifi',\n",
       " 'someon order two taco think may part custom servic ask combo ala cart',\n",
       " 'quit disappoint although blame need place door',\n",
       " 'rave review wait eat disappoint',\n",
       " 'del taco pretti nasti avoid possibl',\n",
       " 'hard make decent hamburg',\n",
       " 'like',\n",
       " 'hell go back',\n",
       " 'gotten much better servic pizza place next door servic receiv restaur',\n",
       " 'know big deal place back ya',\n",
       " 'immedi said want talk manag want talk guy shot firebal behind bar',\n",
       " 'ambianc much better',\n",
       " 'unfortun set us disapppoint entre',\n",
       " 'food good',\n",
       " 'server suck wait correct server heimer suck',\n",
       " 'happen next pretti put',\n",
       " 'bad caus know famili own realli want like place',\n",
       " 'overpr get',\n",
       " 'vomit bathroom mid lunch',\n",
       " 'kept look time soon becom minut yet still food',\n",
       " 'place eat circumst would ever return top list',\n",
       " 'start tuna sashimi brownish color obvious fresh',\n",
       " 'food averag',\n",
       " 'sure beat nacho movi would expect littl bit come restaur',\n",
       " 'ha long bay bit flop',\n",
       " 'problem charg sandwich bigger subway sub offer better amount veget',\n",
       " 'shrimp unwrap live mile brushfir liter ice cold',\n",
       " 'lack flavor seem undercook dri',\n",
       " 'realli impress place close',\n",
       " 'would avoid place stay mirag',\n",
       " 'refri bean came meal dri crusti food bland',\n",
       " 'spend money time place els',\n",
       " 'ladi tabl next us found live green caterpillar salad',\n",
       " 'present food aw',\n",
       " 'tell disappoint',\n",
       " 'think food flavor textur lack',\n",
       " 'appetit instantli gone',\n",
       " 'overal impress would go back',\n",
       " 'whole experi underwhelm think go ninja sushi next time',\n",
       " 'wast enough life pour salt wound draw time took bring check']"
      ]
     },
     "execution_count": 14,
     "metadata": {},
     "output_type": "execute_result"
    }
   ],
   "source": [
    "review_restaurant"
   ]
  },
  {
   "cell_type": "code",
   "execution_count": 15,
   "id": "43ebcb7d",
   "metadata": {},
   "outputs": [
    {
     "data": {
      "text/html": [
       "<div>\n",
       "<style scoped>\n",
       "    .dataframe tbody tr th:only-of-type {\n",
       "        vertical-align: middle;\n",
       "    }\n",
       "\n",
       "    .dataframe tbody tr th {\n",
       "        vertical-align: top;\n",
       "    }\n",
       "\n",
       "    .dataframe thead th {\n",
       "        text-align: right;\n",
       "    }\n",
       "</style>\n",
       "<table border=\"1\" class=\"dataframe\">\n",
       "  <thead>\n",
       "    <tr style=\"text-align: right;\">\n",
       "      <th></th>\n",
       "      <th>0</th>\n",
       "    </tr>\n",
       "  </thead>\n",
       "  <tbody>\n",
       "    <tr>\n",
       "      <th>0</th>\n",
       "      <td>wow love place</td>\n",
       "    </tr>\n",
       "    <tr>\n",
       "      <th>1</th>\n",
       "      <td>crust good</td>\n",
       "    </tr>\n",
       "    <tr>\n",
       "      <th>2</th>\n",
       "      <td>tasti textur nasti</td>\n",
       "    </tr>\n",
       "    <tr>\n",
       "      <th>3</th>\n",
       "      <td>stop late may bank holiday rick steve recommen...</td>\n",
       "    </tr>\n",
       "    <tr>\n",
       "      <th>4</th>\n",
       "      <td>select menu great price</td>\n",
       "    </tr>\n",
       "  </tbody>\n",
       "</table>\n",
       "</div>"
      ],
      "text/plain": [
       "                                                   0\n",
       "0                                     wow love place\n",
       "1                                         crust good\n",
       "2                                 tasti textur nasti\n",
       "3  stop late may bank holiday rick steve recommen...\n",
       "4                            select menu great price"
      ]
     },
     "execution_count": 15,
     "metadata": {},
     "output_type": "execute_result"
    }
   ],
   "source": [
    "review_rest = pd.DataFrame(review_restaurant)\n",
    "review_rest.head()"
   ]
  },
  {
   "cell_type": "code",
   "execution_count": 16,
   "id": "bea17883",
   "metadata": {},
   "outputs": [
    {
     "data": {
      "text/html": [
       "<div>\n",
       "<style scoped>\n",
       "    .dataframe tbody tr th:only-of-type {\n",
       "        vertical-align: middle;\n",
       "    }\n",
       "\n",
       "    .dataframe tbody tr th {\n",
       "        vertical-align: top;\n",
       "    }\n",
       "\n",
       "    .dataframe thead th {\n",
       "        text-align: right;\n",
       "    }\n",
       "</style>\n",
       "<table border=\"1\" class=\"dataframe\">\n",
       "  <thead>\n",
       "    <tr style=\"text-align: right;\">\n",
       "      <th></th>\n",
       "      <th>Review_new</th>\n",
       "    </tr>\n",
       "  </thead>\n",
       "  <tbody>\n",
       "    <tr>\n",
       "      <th>0</th>\n",
       "      <td>wow love place</td>\n",
       "    </tr>\n",
       "    <tr>\n",
       "      <th>1</th>\n",
       "      <td>crust good</td>\n",
       "    </tr>\n",
       "    <tr>\n",
       "      <th>2</th>\n",
       "      <td>tasti textur nasti</td>\n",
       "    </tr>\n",
       "    <tr>\n",
       "      <th>3</th>\n",
       "      <td>stop late may bank holiday rick steve recommen...</td>\n",
       "    </tr>\n",
       "    <tr>\n",
       "      <th>4</th>\n",
       "      <td>select menu great price</td>\n",
       "    </tr>\n",
       "  </tbody>\n",
       "</table>\n",
       "</div>"
      ],
      "text/plain": [
       "                                          Review_new\n",
       "0                                     wow love place\n",
       "1                                         crust good\n",
       "2                                 tasti textur nasti\n",
       "3  stop late may bank holiday rick steve recommen...\n",
       "4                            select menu great price"
      ]
     },
     "execution_count": 16,
     "metadata": {},
     "output_type": "execute_result"
    }
   ],
   "source": [
    "review_rest.columns = ['Review_new']\n",
    "review_rest.head()"
   ]
  },
  {
   "cell_type": "markdown",
   "id": "d49fc6de",
   "metadata": {},
   "source": [
    "# <font color = blue> COUNT VECTORIZER <font color>"
   ]
  },
  {
   "cell_type": "code",
   "execution_count": 17,
   "id": "ffea68a6",
   "metadata": {},
   "outputs": [
    {
     "data": {
      "text/plain": [
       "array([0, 0, 0, ..., 0, 0, 0], dtype=int64)"
      ]
     },
     "execution_count": 17,
     "metadata": {},
     "output_type": "execute_result"
    }
   ],
   "source": [
    "cv = CountVectorizer(max_features=1500)\n",
    "X = cv.fit_transform(review_restaurant).toarray()\n",
    "X[0]"
   ]
  },
  {
   "cell_type": "code",
   "execution_count": 18,
   "id": "ccc2f12c",
   "metadata": {},
   "outputs": [
    {
     "data": {
      "text/plain": [
       "(1000, 1500)"
      ]
     },
     "execution_count": 18,
     "metadata": {},
     "output_type": "execute_result"
    }
   ],
   "source": [
    "X.shape"
   ]
  },
  {
   "cell_type": "code",
   "execution_count": 19,
   "id": "abb5a0f8",
   "metadata": {},
   "outputs": [
    {
     "name": "stderr",
     "output_type": "stream",
     "text": [
      "C:\\Users\\sahil\\anaconda3\\lib\\site-packages\\sklearn\\utils\\deprecation.py:87: FutureWarning: Function get_feature_names is deprecated; get_feature_names is deprecated in 1.0 and will be removed in 1.2. Please use get_feature_names_out instead.\n",
      "  warnings.warn(msg, category=FutureWarning)\n"
     ]
    },
    {
     "data": {
      "text/plain": [
       "['absolut',\n",
       " 'absolutley',\n",
       " 'accid',\n",
       " 'accommod',\n",
       " 'accomod',\n",
       " 'accordingli',\n",
       " 'account',\n",
       " 'ach',\n",
       " 'acknowledg',\n",
       " 'across',\n",
       " 'actual',\n",
       " 'ad',\n",
       " 'afford',\n",
       " 'afternoon',\n",
       " 'ago',\n",
       " 'ahead',\n",
       " 'airlin',\n",
       " 'airport',\n",
       " 'ala',\n",
       " 'albondiga',\n",
       " 'allergi',\n",
       " 'almond',\n",
       " 'almost',\n",
       " 'alon',\n",
       " 'also',\n",
       " 'although',\n",
       " 'alway',\n",
       " 'amaz',\n",
       " 'ambianc',\n",
       " 'ambienc',\n",
       " 'amount',\n",
       " 'ampl',\n",
       " 'andddd',\n",
       " 'angri',\n",
       " 'annoy',\n",
       " 'anoth',\n",
       " 'anticip',\n",
       " 'anymor',\n",
       " 'anyon',\n",
       " 'anyth',\n",
       " 'anytim',\n",
       " 'anyway',\n",
       " 'apart',\n",
       " 'apolog',\n",
       " 'app',\n",
       " 'appal',\n",
       " 'appar',\n",
       " 'appeal',\n",
       " 'appet',\n",
       " 'appetit',\n",
       " 'appl',\n",
       " 'approv',\n",
       " 'area',\n",
       " 'arepa',\n",
       " 'aria',\n",
       " 'around',\n",
       " 'array',\n",
       " 'arriv',\n",
       " 'articl',\n",
       " 'ask',\n",
       " 'assur',\n",
       " 'ate',\n",
       " 'atmospher',\n",
       " 'atroci',\n",
       " 'attach',\n",
       " 'attack',\n",
       " 'attent',\n",
       " 'attitud',\n",
       " 'auju',\n",
       " 'authent',\n",
       " 'averag',\n",
       " 'avocado',\n",
       " 'avoid',\n",
       " 'aw',\n",
       " 'away',\n",
       " 'awesom',\n",
       " 'awkward',\n",
       " 'awkwardli',\n",
       " 'ayc',\n",
       " 'az',\n",
       " 'baba',\n",
       " 'babi',\n",
       " 'bachi',\n",
       " 'back',\n",
       " 'bacon',\n",
       " 'bad',\n",
       " 'bagel',\n",
       " 'bakeri',\n",
       " 'baklava',\n",
       " 'ball',\n",
       " 'bamboo',\n",
       " 'banana',\n",
       " 'bank',\n",
       " 'bar',\n",
       " 'bare',\n",
       " 'bargain',\n",
       " 'bartend',\n",
       " 'base',\n",
       " 'basebal',\n",
       " 'basic',\n",
       " 'batch',\n",
       " 'bathroom',\n",
       " 'batter',\n",
       " 'bay',\n",
       " 'bbq',\n",
       " 'bean',\n",
       " 'beat',\n",
       " 'beateou',\n",
       " 'beauti',\n",
       " 'becom',\n",
       " 'beef',\n",
       " 'beer',\n",
       " 'begin',\n",
       " 'behind',\n",
       " 'believ',\n",
       " 'bellagio',\n",
       " 'belli',\n",
       " 'besid',\n",
       " 'best',\n",
       " 'better',\n",
       " 'beyond',\n",
       " 'big',\n",
       " 'bigger',\n",
       " 'biggest',\n",
       " 'bill',\n",
       " 'bing',\n",
       " 'bird',\n",
       " 'biscuit',\n",
       " 'bisqu',\n",
       " 'bit',\n",
       " 'bite',\n",
       " 'black',\n",
       " 'bland',\n",
       " 'bloddi',\n",
       " 'bloodi',\n",
       " 'blow',\n",
       " 'blown',\n",
       " 'blue',\n",
       " 'boba',\n",
       " 'bone',\n",
       " 'book',\n",
       " 'boot',\n",
       " 'bore',\n",
       " 'bother',\n",
       " 'bottom',\n",
       " 'bouchon',\n",
       " 'bought',\n",
       " 'bowl',\n",
       " 'box',\n",
       " 'boy',\n",
       " 'boyfriend',\n",
       " 'bread',\n",
       " 'break',\n",
       " 'breakfast',\n",
       " 'breez',\n",
       " 'brick',\n",
       " 'bring',\n",
       " 'brisket',\n",
       " 'brother',\n",
       " 'brought',\n",
       " 'brownish',\n",
       " 'brunch',\n",
       " 'bruschetta',\n",
       " 'brushfir',\n",
       " 'bu',\n",
       " 'buck',\n",
       " 'buffet',\n",
       " 'bug',\n",
       " 'build',\n",
       " 'buldogi',\n",
       " 'bunch',\n",
       " 'burger',\n",
       " 'burn',\n",
       " 'burritto',\n",
       " 'busi',\n",
       " 'bussel',\n",
       " 'butter',\n",
       " 'buy',\n",
       " 'bye',\n",
       " 'caballero',\n",
       " 'caesar',\n",
       " 'caf',\n",
       " 'cafe',\n",
       " 'cake',\n",
       " 'calamari',\n",
       " 'call',\n",
       " 'calligraphi',\n",
       " 'came',\n",
       " 'camelback',\n",
       " 'cannoli',\n",
       " 'cannot',\n",
       " 'cant',\n",
       " 'cape',\n",
       " 'caper',\n",
       " 'car',\n",
       " 'carb',\n",
       " 'care',\n",
       " 'carli',\n",
       " 'carpaccio',\n",
       " 'cart',\n",
       " 'cartel',\n",
       " 'case',\n",
       " 'cash',\n",
       " 'cashew',\n",
       " 'cashier',\n",
       " 'casino',\n",
       " 'caterpillar',\n",
       " 'chain',\n",
       " 'chang',\n",
       " 'char',\n",
       " 'charcoal',\n",
       " 'charg',\n",
       " 'charm',\n",
       " 'cheap',\n",
       " 'cheat',\n",
       " 'check',\n",
       " 'cheek',\n",
       " 'chees',\n",
       " 'cheeseburg',\n",
       " 'cheesecurd',\n",
       " 'chef',\n",
       " 'chewi',\n",
       " 'chicken',\n",
       " 'chines',\n",
       " 'chip',\n",
       " 'chipolt',\n",
       " 'chipotl',\n",
       " 'chocol',\n",
       " 'choos',\n",
       " 'choux',\n",
       " 'chow',\n",
       " 'christma',\n",
       " 'cibo',\n",
       " 'circumst',\n",
       " 'claim',\n",
       " 'class',\n",
       " 'classi',\n",
       " 'classic',\n",
       " 'clean',\n",
       " 'climb',\n",
       " 'close',\n",
       " 'club',\n",
       " 'clue',\n",
       " 'cocktail',\n",
       " 'coconut',\n",
       " 'cod',\n",
       " 'coffe',\n",
       " 'cold',\n",
       " 'colder',\n",
       " 'colleg',\n",
       " 'color',\n",
       " 'combin',\n",
       " 'combo',\n",
       " 'come',\n",
       " 'comfort',\n",
       " 'common',\n",
       " 'compani',\n",
       " 'companion',\n",
       " 'complain',\n",
       " 'complaint',\n",
       " 'complet',\n",
       " 'compliment',\n",
       " 'con',\n",
       " 'concept',\n",
       " 'concern',\n",
       " 'conclus',\n",
       " 'condiment',\n",
       " 'connisseur',\n",
       " 'connoisseur',\n",
       " 'consid',\n",
       " 'consist',\n",
       " 'construct',\n",
       " 'contain',\n",
       " 'continu',\n",
       " 'conveni',\n",
       " 'cook',\n",
       " 'cool',\n",
       " 'corn',\n",
       " 'corpor',\n",
       " 'correct',\n",
       " 'cost',\n",
       " 'costco',\n",
       " 'cotta',\n",
       " 'could',\n",
       " 'count',\n",
       " 'coupl',\n",
       " 'coupon',\n",
       " 'cours',\n",
       " 'court',\n",
       " 'courteou',\n",
       " 'cover',\n",
       " 'cow',\n",
       " 'cozi',\n",
       " 'cr',\n",
       " 'crab',\n",
       " 'cram',\n",
       " 'cranberri',\n",
       " 'crave',\n",
       " 'crawfish',\n",
       " 'crazi',\n",
       " 'cream',\n",
       " 'creami',\n",
       " 'crema',\n",
       " 'crepe',\n",
       " 'crisp',\n",
       " 'crispi',\n",
       " 'crostini',\n",
       " 'crouton',\n",
       " 'crowd',\n",
       " 'crumbi',\n",
       " 'crust',\n",
       " 'crusti',\n",
       " 'crystal',\n",
       " 'cuisin',\n",
       " 'curri',\n",
       " 'custom',\n",
       " 'cut',\n",
       " 'cute',\n",
       " 'daili',\n",
       " 'damn',\n",
       " 'dark',\n",
       " 'date',\n",
       " 'daughter',\n",
       " 'day',\n",
       " 'dead',\n",
       " 'deal',\n",
       " 'decent',\n",
       " 'decid',\n",
       " 'decis',\n",
       " 'decor',\n",
       " 'dedic',\n",
       " 'deep',\n",
       " 'deepli',\n",
       " 'def',\n",
       " 'defin',\n",
       " 'definit',\n",
       " 'degre',\n",
       " 'del',\n",
       " 'delic',\n",
       " 'delici',\n",
       " 'delicioso',\n",
       " 'delight',\n",
       " 'delish',\n",
       " 'deliv',\n",
       " 'deliveri',\n",
       " 'denni',\n",
       " 'describ',\n",
       " 'descript',\n",
       " 'deserv',\n",
       " 'desir',\n",
       " 'despic',\n",
       " 'despit',\n",
       " 'dessert',\n",
       " 'deuchebaggeri',\n",
       " 'devin',\n",
       " 'die',\n",
       " 'differ',\n",
       " 'dime',\n",
       " 'dine',\n",
       " 'dinner',\n",
       " 'dip',\n",
       " 'dirt',\n",
       " 'dirti',\n",
       " 'disagre',\n",
       " 'disappoint',\n",
       " 'disapppoint',\n",
       " 'disast',\n",
       " 'disbelief',\n",
       " 'discount',\n",
       " 'disgrac',\n",
       " 'disgust',\n",
       " 'dish',\n",
       " 'dispens',\n",
       " 'disrespect',\n",
       " 'divers',\n",
       " 'do',\n",
       " 'dog',\n",
       " 'dollar',\n",
       " 'done',\n",
       " 'dont',\n",
       " 'donut',\n",
       " 'door',\n",
       " 'doubl',\n",
       " 'doubt',\n",
       " 'douchey',\n",
       " 'dough',\n",
       " 'doughi',\n",
       " 'downright',\n",
       " 'downsid',\n",
       " 'downtown',\n",
       " 'drag',\n",
       " 'drastic',\n",
       " 'draw',\n",
       " 'dream',\n",
       " 'drench',\n",
       " 'dress',\n",
       " 'dri',\n",
       " 'driest',\n",
       " 'drink',\n",
       " 'drip',\n",
       " 'drive',\n",
       " 'drop',\n",
       " 'drunk',\n",
       " 'duck',\n",
       " 'dude',\n",
       " 'due',\n",
       " 'duo',\n",
       " 'dust',\n",
       " 'dylan',\n",
       " 'easili',\n",
       " 'eat',\n",
       " 'eaten',\n",
       " 'eclect',\n",
       " 'ed',\n",
       " 'edibl',\n",
       " 'edinburgh',\n",
       " 'edit',\n",
       " 'eel',\n",
       " 'eew',\n",
       " 'effici',\n",
       " 'effort',\n",
       " 'egg',\n",
       " 'eggplant',\n",
       " 'either',\n",
       " 'elegantli',\n",
       " 'elk',\n",
       " 'els',\n",
       " 'elsewher',\n",
       " 'email',\n",
       " 'employe',\n",
       " 'empti',\n",
       " 'end',\n",
       " 'english',\n",
       " 'enjoy',\n",
       " 'enough',\n",
       " 'ensu',\n",
       " 'enthusiast',\n",
       " 'entir',\n",
       " 'entre',\n",
       " 'equal',\n",
       " 'especi',\n",
       " 'establish',\n",
       " 'etc',\n",
       " 'ethic',\n",
       " 'eve',\n",
       " 'even',\n",
       " 'event',\n",
       " 'ever',\n",
       " 'everi',\n",
       " 'everyon',\n",
       " 'everyth',\n",
       " 'everywher',\n",
       " 'exactli',\n",
       " 'excalibur',\n",
       " 'exceed',\n",
       " 'excel',\n",
       " 'except',\n",
       " 'excus',\n",
       " 'expand',\n",
       " 'expect',\n",
       " 'expens',\n",
       " 'experi',\n",
       " 'experienc',\n",
       " 'expert',\n",
       " 'exquisit',\n",
       " 'extens',\n",
       " 'extra',\n",
       " 'extrem',\n",
       " 'eye',\n",
       " 'fact',\n",
       " 'fail',\n",
       " 'fairli',\n",
       " 'famili',\n",
       " 'familiar',\n",
       " 'fan',\n",
       " 'fantast',\n",
       " 'far',\n",
       " 'fare',\n",
       " 'fast',\n",
       " 'favor',\n",
       " 'favorit',\n",
       " 'feel',\n",
       " 'fell',\n",
       " 'fella',\n",
       " 'fellow',\n",
       " 'felt',\n",
       " 'fianc',\n",
       " 'figur',\n",
       " 'filet',\n",
       " 'fill',\n",
       " 'fillet',\n",
       " 'final',\n",
       " 'find',\n",
       " 'fine',\n",
       " 'finish',\n",
       " 'firebal',\n",
       " 'firehous',\n",
       " 'first',\n",
       " 'fish',\n",
       " 'five',\n",
       " 'flair',\n",
       " 'flat',\n",
       " 'flavor',\n",
       " 'flavorless',\n",
       " 'flavour',\n",
       " 'fli',\n",
       " 'flirt',\n",
       " 'flop',\n",
       " 'flower',\n",
       " 'fluffi',\n",
       " 'fo',\n",
       " 'focus',\n",
       " 'folk',\n",
       " 'fondu',\n",
       " 'food',\n",
       " 'foot',\n",
       " 'forev',\n",
       " 'forget',\n",
       " 'forth',\n",
       " 'forti',\n",
       " 'forward',\n",
       " 'found',\n",
       " 'four',\n",
       " 'francisco',\n",
       " 'freak',\n",
       " 'free',\n",
       " 'freez',\n",
       " 'frenchman',\n",
       " 'fresh',\n",
       " 'fri',\n",
       " 'friday',\n",
       " 'friend',\n",
       " 'friendli',\n",
       " 'front',\n",
       " 'frozen',\n",
       " 'fruit',\n",
       " 'frustrat',\n",
       " 'fs',\n",
       " 'fuck',\n",
       " 'full',\n",
       " 'fun',\n",
       " 'funni',\n",
       " 'furthermor',\n",
       " 'fuzzi',\n",
       " 'ga',\n",
       " 'ganoush',\n",
       " 'garden',\n",
       " 'garlic',\n",
       " 'gave',\n",
       " 'gc',\n",
       " 'gem',\n",
       " 'gener',\n",
       " 'genuin',\n",
       " 'get',\n",
       " 'giant',\n",
       " 'girlfriend',\n",
       " 'give',\n",
       " 'given',\n",
       " 'glad',\n",
       " 'glanc',\n",
       " 'glass',\n",
       " 'glove',\n",
       " 'gluten',\n",
       " 'go',\n",
       " 'goat',\n",
       " 'godfath',\n",
       " 'gold',\n",
       " 'golden',\n",
       " 'gone',\n",
       " 'good',\n",
       " 'googl',\n",
       " 'gooodd',\n",
       " 'gordon',\n",
       " 'got',\n",
       " 'gotten',\n",
       " 'gourmet',\n",
       " 'grab',\n",
       " 'grain',\n",
       " 'grandmoth',\n",
       " 'gratitud',\n",
       " 'gratuiti',\n",
       " 'greas',\n",
       " 'greasi',\n",
       " 'great',\n",
       " 'greatest',\n",
       " 'greedi',\n",
       " 'greek',\n",
       " 'green',\n",
       " 'greet',\n",
       " 'grill',\n",
       " 'gringo',\n",
       " 'gristl',\n",
       " 'groceri',\n",
       " 'gross',\n",
       " 'ground',\n",
       " 'group',\n",
       " 'grow',\n",
       " 'guacamol',\n",
       " 'guess',\n",
       " 'guest',\n",
       " 'guy',\n",
       " 'gyro',\n",
       " 'ha',\n",
       " 'hair',\n",
       " 'half',\n",
       " 'halibut',\n",
       " 'hamburg',\n",
       " 'han',\n",
       " 'hand',\n",
       " 'handl',\n",
       " 'handmad',\n",
       " 'hanker',\n",
       " 'happen',\n",
       " 'happi',\n",
       " 'happier',\n",
       " 'hard',\n",
       " 'hardest',\n",
       " 'hardli',\n",
       " 'hate',\n",
       " 'haunt',\n",
       " 'hawaiian',\n",
       " 'head',\n",
       " 'healthi',\n",
       " 'heard',\n",
       " 'heart',\n",
       " 'heat',\n",
       " 'heimer',\n",
       " 'held',\n",
       " 'hell',\n",
       " 'hella',\n",
       " 'hello',\n",
       " 'help',\n",
       " 'herea',\n",
       " 'hi',\n",
       " 'high',\n",
       " 'highli',\n",
       " 'highlight',\n",
       " 'hilari',\n",
       " 'hip',\n",
       " 'hiro',\n",
       " 'hit',\n",
       " 'hole',\n",
       " 'holiday',\n",
       " 'home',\n",
       " 'homemad',\n",
       " 'honeslti',\n",
       " 'honest',\n",
       " 'honestli',\n",
       " 'honor',\n",
       " 'hook',\n",
       " 'hope',\n",
       " 'horribl',\n",
       " 'hospit',\n",
       " 'host',\n",
       " 'hostess',\n",
       " 'hot',\n",
       " 'hottest',\n",
       " 'hour',\n",
       " 'hous',\n",
       " 'howev',\n",
       " 'huevo',\n",
       " 'huge',\n",
       " 'human',\n",
       " 'humili',\n",
       " 'hummu',\n",
       " 'hunan',\n",
       " 'hungri',\n",
       " 'hurri',\n",
       " 'husband',\n",
       " 'hut',\n",
       " 'ian',\n",
       " 'ice',\n",
       " 'idea',\n",
       " 'ignor',\n",
       " 'im',\n",
       " 'imagin',\n",
       " 'immedi',\n",
       " 'impecc',\n",
       " 'impress',\n",
       " 'inch',\n",
       " 'includ',\n",
       " 'inconsider',\n",
       " 'incred',\n",
       " 'indian',\n",
       " 'indic',\n",
       " 'indoor',\n",
       " 'industri',\n",
       " 'inexpens',\n",
       " 'inflat',\n",
       " 'inform',\n",
       " 'ingredi',\n",
       " 'insan',\n",
       " 'insid',\n",
       " 'inspir',\n",
       " 'instantli',\n",
       " 'instead',\n",
       " 'insult',\n",
       " 'interest',\n",
       " 'interior',\n",
       " 'invit',\n",
       " 'ironman',\n",
       " 'italian',\n",
       " 'item',\n",
       " 'jalapeno',\n",
       " 'jamaican',\n",
       " 'japanes',\n",
       " 'jeff',\n",
       " 'jenni',\n",
       " 'jerk',\n",
       " 'jewel',\n",
       " 'job',\n",
       " 'joey',\n",
       " 'join',\n",
       " 'joint',\n",
       " 'joke',\n",
       " 'joy',\n",
       " 'judg',\n",
       " 'juic',\n",
       " 'juri',\n",
       " 'kabuki',\n",
       " 'kept',\n",
       " 'key',\n",
       " 'khao',\n",
       " 'kid',\n",
       " 'kiddo',\n",
       " 'killer',\n",
       " 'kind',\n",
       " 'kitchen',\n",
       " 'know',\n",
       " 'known',\n",
       " 'la',\n",
       " 'lack',\n",
       " 'ladi',\n",
       " 'larg',\n",
       " 'larger',\n",
       " 'last',\n",
       " 'lastli',\n",
       " 'late',\n",
       " 'later',\n",
       " 'latt',\n",
       " 'law',\n",
       " 'lawyer',\n",
       " 'lb',\n",
       " 'least',\n",
       " 'leather',\n",
       " 'leav',\n",
       " 'left',\n",
       " 'leftov',\n",
       " 'leg',\n",
       " 'legit',\n",
       " 'lemon',\n",
       " 'less',\n",
       " 'let',\n",
       " 'letdown',\n",
       " 'lettuc',\n",
       " 'level',\n",
       " 'life',\n",
       " 'light',\n",
       " 'lighter',\n",
       " 'lightli',\n",
       " 'like',\n",
       " 'lil',\n",
       " 'limit',\n",
       " 'line',\n",
       " 'list',\n",
       " 'liter',\n",
       " 'littl',\n",
       " 'live',\n",
       " 'lobster',\n",
       " 'locat',\n",
       " 'long',\n",
       " 'longer',\n",
       " 'look',\n",
       " 'lordi',\n",
       " 'lost',\n",
       " 'lot',\n",
       " 'loudli',\n",
       " 'love',\n",
       " 'lover',\n",
       " 'low',\n",
       " 'lox',\n",
       " 'loyal',\n",
       " 'luck',\n",
       " 'luke',\n",
       " 'lukewarm',\n",
       " 'lunch',\n",
       " 'mac',\n",
       " 'macaron',\n",
       " 'made',\n",
       " 'madhous',\n",
       " 'madison',\n",
       " 'magazin',\n",
       " 'magic',\n",
       " 'main',\n",
       " 'maintain',\n",
       " 'make',\n",
       " 'mall',\n",
       " 'man',\n",
       " 'manag',\n",
       " 'mandalay',\n",
       " 'mango',\n",
       " 'mani',\n",
       " 'margarita',\n",
       " 'mari',\n",
       " 'maria',\n",
       " 'market',\n",
       " 'marrow',\n",
       " 'martini',\n",
       " 'massiv',\n",
       " 'may',\n",
       " 'mayb',\n",
       " 'mayo',\n",
       " 'meal',\n",
       " 'mean',\n",
       " 'meat',\n",
       " 'meatbal',\n",
       " 'meatloaf',\n",
       " 'mediocr',\n",
       " 'mediterranean',\n",
       " 'medium',\n",
       " 'meet',\n",
       " 'meh',\n",
       " 'mein',\n",
       " 'mellow',\n",
       " 'melt',\n",
       " 'memori',\n",
       " 'mention',\n",
       " 'menu',\n",
       " 'mesquit',\n",
       " 'mess',\n",
       " 'metro',\n",
       " 'mexican',\n",
       " 'mgm',\n",
       " 'mid',\n",
       " 'middl',\n",
       " 'might',\n",
       " 'mile',\n",
       " 'militari',\n",
       " 'milk',\n",
       " 'milkshak',\n",
       " 'min',\n",
       " 'mind',\n",
       " 'minut',\n",
       " 'mirag',\n",
       " 'miss',\n",
       " 'mistak',\n",
       " 'mix',\n",
       " 'mmmm',\n",
       " 'modern',\n",
       " 'moist',\n",
       " 'mojito',\n",
       " 'mom',\n",
       " 'money',\n",
       " 'monster',\n",
       " 'month',\n",
       " 'mood',\n",
       " 'mortifi',\n",
       " 'mostli',\n",
       " 'mouth',\n",
       " 'movi',\n",
       " 'moz',\n",
       " 'mozzarella',\n",
       " 'much',\n",
       " 'muffin',\n",
       " 'multi',\n",
       " 'multipl',\n",
       " 'mushroom',\n",
       " 'music',\n",
       " 'must',\n",
       " 'nacho',\n",
       " 'nasti',\n",
       " 'nay',\n",
       " 'nearli',\n",
       " 'neat',\n",
       " 'need',\n",
       " 'needless',\n",
       " 'neglig',\n",
       " 'neighborhood',\n",
       " 'neither',\n",
       " 'never',\n",
       " 'new',\n",
       " 'next',\n",
       " 'nice',\n",
       " 'nicest',\n",
       " 'night',\n",
       " 'nigiri',\n",
       " 'ninja',\n",
       " 'nobu',\n",
       " 'noca',\n",
       " 'non',\n",
       " 'none',\n",
       " 'noodl',\n",
       " 'north',\n",
       " 'note',\n",
       " 'noth',\n",
       " 'nude',\n",
       " 'number',\n",
       " 'nut',\n",
       " 'nutshel',\n",
       " 'nyc',\n",
       " 'obvious',\n",
       " 'offer',\n",
       " 'oh',\n",
       " 'ok',\n",
       " 'old',\n",
       " 'omg',\n",
       " 'one',\n",
       " 'opportun',\n",
       " 'option',\n",
       " 'order',\n",
       " 'other',\n",
       " 'outsid',\n",
       " 'outstand',\n",
       " 'oven',\n",
       " 'overal',\n",
       " 'overcook',\n",
       " 'overpr',\n",
       " 'overwhelm',\n",
       " 'owner',\n",
       " 'pace',\n",
       " 'pack',\n",
       " 'paid',\n",
       " 'pancak',\n",
       " 'paper',\n",
       " 'par',\n",
       " 'part',\n",
       " 'parti',\n",
       " 'pass',\n",
       " 'pasta',\n",
       " 'patio',\n",
       " 'patti',\n",
       " 'pay',\n",
       " 'pe',\n",
       " 'pea',\n",
       " 'peach',\n",
       " 'peanut',\n",
       " 'pear',\n",
       " 'pecan',\n",
       " 'penn',\n",
       " 'peopl',\n",
       " 'pepper',\n",
       " 'perfect',\n",
       " 'perfectli',\n",
       " 'perform',\n",
       " 'perhap',\n",
       " 'perpar',\n",
       " 'person',\n",
       " 'petrifi',\n",
       " 'petti',\n",
       " 'phenomen',\n",
       " 'philadelphia',\n",
       " 'pho',\n",
       " 'phoenix',\n",
       " 'piano',\n",
       " 'pictur',\n",
       " 'piec',\n",
       " 'pile',\n",
       " 'pine',\n",
       " 'pineappl',\n",
       " 'pink',\n",
       " 'pissd',\n",
       " 'pita',\n",
       " 'pizza',\n",
       " 'place',\n",
       " 'plain',\n",
       " 'plantain',\n",
       " 'plastic',\n",
       " 'plate',\n",
       " 'plater',\n",
       " 'platter',\n",
       " 'play',\n",
       " 'pleas',\n",
       " 'pleasant',\n",
       " 'pleasur',\n",
       " 'plethora',\n",
       " 'plu',\n",
       " 'pneumat',\n",
       " 'point',\n",
       " 'poison',\n",
       " 'polit',\n",
       " 'poop',\n",
       " 'poor',\n",
       " 'poorli',\n",
       " 'pop',\n",
       " 'pork',\n",
       " 'portion',\n",
       " 'posit',\n",
       " 'possibl',\n",
       " 'postino',\n",
       " 'potato',\n",
       " 'pour',\n",
       " 'powder',\n",
       " 'power',\n",
       " 'prefer',\n",
       " 'prepar',\n",
       " 'present',\n",
       " 'pretti',\n",
       " 'price',\n",
       " 'pricey',\n",
       " 'prime',\n",
       " ...]"
      ]
     },
     "execution_count": 19,
     "metadata": {},
     "output_type": "execute_result"
    }
   ],
   "source": [
    "cv.get_feature_names()"
   ]
  },
  {
   "cell_type": "code",
   "execution_count": 20,
   "id": "fa80b1e7",
   "metadata": {},
   "outputs": [
    {
     "data": {
      "text/html": [
       "<div>\n",
       "<style scoped>\n",
       "    .dataframe tbody tr th:only-of-type {\n",
       "        vertical-align: middle;\n",
       "    }\n",
       "\n",
       "    .dataframe tbody tr th {\n",
       "        vertical-align: top;\n",
       "    }\n",
       "\n",
       "    .dataframe thead th {\n",
       "        text-align: right;\n",
       "    }\n",
       "</style>\n",
       "<table border=\"1\" class=\"dataframe\">\n",
       "  <thead>\n",
       "    <tr style=\"text-align: right;\">\n",
       "      <th></th>\n",
       "      <th>Review</th>\n",
       "      <th>Liked</th>\n",
       "    </tr>\n",
       "  </thead>\n",
       "  <tbody>\n",
       "    <tr>\n",
       "      <th>0</th>\n",
       "      <td>Wow... Loved this place.</td>\n",
       "      <td>1</td>\n",
       "    </tr>\n",
       "    <tr>\n",
       "      <th>1</th>\n",
       "      <td>Crust is not good.</td>\n",
       "      <td>0</td>\n",
       "    </tr>\n",
       "    <tr>\n",
       "      <th>2</th>\n",
       "      <td>Not tasty and the texture was just nasty.</td>\n",
       "      <td>0</td>\n",
       "    </tr>\n",
       "    <tr>\n",
       "      <th>3</th>\n",
       "      <td>Stopped by during the late May bank holiday of...</td>\n",
       "      <td>1</td>\n",
       "    </tr>\n",
       "    <tr>\n",
       "      <th>4</th>\n",
       "      <td>The selection on the menu was great and so wer...</td>\n",
       "      <td>1</td>\n",
       "    </tr>\n",
       "  </tbody>\n",
       "</table>\n",
       "</div>"
      ],
      "text/plain": [
       "                                              Review  Liked\n",
       "0                           Wow... Loved this place.      1\n",
       "1                                 Crust is not good.      0\n",
       "2          Not tasty and the texture was just nasty.      0\n",
       "3  Stopped by during the late May bank holiday of...      1\n",
       "4  The selection on the menu was great and so wer...      1"
      ]
     },
     "execution_count": 20,
     "metadata": {},
     "output_type": "execute_result"
    }
   ],
   "source": [
    "df.head()"
   ]
  },
  {
   "cell_type": "code",
   "execution_count": 21,
   "id": "340a22c1",
   "metadata": {},
   "outputs": [
    {
     "data": {
      "text/plain": [
       "0      1\n",
       "1      0\n",
       "2      0\n",
       "3      1\n",
       "4      1\n",
       "      ..\n",
       "995    0\n",
       "996    0\n",
       "997    0\n",
       "998    0\n",
       "999    0\n",
       "Name: Liked, Length: 1000, dtype: int64"
      ]
     },
     "execution_count": 21,
     "metadata": {},
     "output_type": "execute_result"
    }
   ],
   "source": [
    "y = df.iloc[:,1]\n",
    "y"
   ]
  },
  {
   "cell_type": "markdown",
   "id": "a5b2506a",
   "metadata": {},
   "source": [
    "### <font color = blue> TRAIN TEST SPLIT <font color>"
   ]
  },
  {
   "cell_type": "code",
   "execution_count": 22,
   "id": "a20c6f20",
   "metadata": {},
   "outputs": [],
   "source": [
    "X_train, X_test, y_train, y_test = train_test_split(X, y, test_size=0.20, random_state=0)"
   ]
  },
  {
   "cell_type": "code",
   "execution_count": 23,
   "id": "b77729c3",
   "metadata": {},
   "outputs": [
    {
     "data": {
      "text/plain": [
       "((800, 1500), (200, 1500), (800,), (200,))"
      ]
     },
     "execution_count": 23,
     "metadata": {},
     "output_type": "execute_result"
    }
   ],
   "source": [
    "X_train.shape, X_test.shape, y_train.shape, y_test.shape"
   ]
  },
  {
   "cell_type": "markdown",
   "id": "666deb79",
   "metadata": {},
   "source": [
    "### <font color=blue> Gaussian Naive Bayes<font color>"
   ]
  },
  {
   "cell_type": "code",
   "execution_count": 24,
   "id": "71c3bba1",
   "metadata": {},
   "outputs": [
    {
     "data": {
      "text/plain": [
       "GaussianNB()"
      ]
     },
     "execution_count": 24,
     "metadata": {},
     "output_type": "execute_result"
    }
   ],
   "source": [
    "classifier = GaussianNB()\n",
    "classifier.fit(X_train, y_train)"
   ]
  },
  {
   "cell_type": "code",
   "execution_count": 25,
   "id": "f204c364",
   "metadata": {},
   "outputs": [],
   "source": [
    "y_pred = classifier.predict(X_test)"
   ]
  },
  {
   "cell_type": "code",
   "execution_count": 26,
   "id": "e3d8d8b0",
   "metadata": {},
   "outputs": [
    {
     "data": {
      "text/plain": [
       "array([[55, 42],\n",
       "       [12, 91]], dtype=int64)"
      ]
     },
     "execution_count": 26,
     "metadata": {},
     "output_type": "execute_result"
    }
   ],
   "source": [
    "confusion_matrix(y_test, y_pred)"
   ]
  },
  {
   "cell_type": "code",
   "execution_count": 27,
   "id": "1190c35c",
   "metadata": {},
   "outputs": [
    {
     "data": {
      "text/plain": [
       "0.73"
      ]
     },
     "execution_count": 27,
     "metadata": {},
     "output_type": "execute_result"
    }
   ],
   "source": [
    "accuracy_score(y_test, y_pred)"
   ]
  },
  {
   "cell_type": "markdown",
   "id": "bcf69143",
   "metadata": {},
   "source": [
    "* **Accuracy score came out to be 73% in case of GaussianNB for Count Vectorizer**"
   ]
  },
  {
   "cell_type": "code",
   "execution_count": 28,
   "id": "91a51524",
   "metadata": {},
   "outputs": [
    {
     "name": "stdout",
     "output_type": "stream",
     "text": [
      "Review is Positive.\n"
     ]
    }
   ],
   "source": [
    "Review = \"nice service\"\n",
    "\n",
    "input1 = [Review]\n",
    "input_data = cv.transform(input1).toarray()\n",
    "\n",
    "input_pred = classifier.predict(input_data)\n",
    "\n",
    "if input_pred[0]==1:\n",
    "    print(\"Review is Positive.\")\n",
    "else:\n",
    "    print(\"Review is Negative.\")"
   ]
  },
  {
   "cell_type": "code",
   "execution_count": 29,
   "id": "4aff722b",
   "metadata": {},
   "outputs": [
    {
     "name": "stdout",
     "output_type": "stream",
     "text": [
      "Review is Negative.\n"
     ]
    }
   ],
   "source": [
    "Review = \"long wait time\"\n",
    "\n",
    "input1 = [Review]\n",
    "input_data = cv.transform(input1).toarray()\n",
    "\n",
    "input_pred = classifier.predict(input_data)\n",
    "\n",
    "if input_pred[0]==1:\n",
    "    print(\"Review is Positive.\")\n",
    "else:\n",
    "    print(\"Review is Negative.\")"
   ]
  },
  {
   "cell_type": "markdown",
   "id": "465435ba",
   "metadata": {},
   "source": [
    "### <font color =blue>LOGISTIC REGRESSION and HYPER TUNING<font color>"
   ]
  },
  {
   "cell_type": "code",
   "execution_count": 30,
   "id": "cf227d04",
   "metadata": {},
   "outputs": [
    {
     "name": "stdout",
     "output_type": "stream",
     "text": [
      "Accuracy for C=0.01: 0.715\n",
      "Accuracy for C=0.05: 0.725\n",
      "Accuracy for C=0.25: 0.745\n",
      "Accuracy for C=0.5: 0.72\n",
      "Accuracy for C=1: 0.71\n"
     ]
    }
   ],
   "source": [
    "for c in [0.01, 0.05, 0.25, 0.5, 1]:\n",
    "    lr = LogisticRegression(penalty='l2', C=c, max_iter=7600, random_state=42)\n",
    "    lr.fit(X_train, y_train)\n",
    "    print(\"Accuracy for C=%s: %s\" %\n",
    "          (c, accuracy_score(y_test, lr.predict(X_test))))"
   ]
  },
  {
   "cell_type": "code",
   "execution_count": 31,
   "id": "535683e4",
   "metadata": {},
   "outputs": [
    {
     "data": {
      "text/plain": [
       "LogisticRegression(C=0.25, max_iter=7600, random_state=42)"
      ]
     },
     "execution_count": 31,
     "metadata": {},
     "output_type": "execute_result"
    }
   ],
   "source": [
    "final_model = LogisticRegression(penalty='l2', C=0.25, max_iter=7600, random_state=42)\n",
    "final_model.fit(X_train, y_train)\n",
    "final_model"
   ]
  },
  {
   "cell_type": "code",
   "execution_count": 32,
   "id": "c39a542e",
   "metadata": {},
   "outputs": [
    {
     "data": {
      "text/plain": [
       "0.745"
      ]
     },
     "execution_count": 32,
     "metadata": {},
     "output_type": "execute_result"
    }
   ],
   "source": [
    "accuracy_score(y_test, final_model.predict(X_test))"
   ]
  },
  {
   "cell_type": "code",
   "execution_count": 33,
   "id": "66178385",
   "metadata": {},
   "outputs": [
    {
     "name": "stdout",
     "output_type": "stream",
     "text": [
      "POSITIVE\n",
      "('great', 1.7373295779748397)\n",
      "('delici', 1.1353663910834446)\n",
      "('love', 1.0363912320848856)\n",
      "('good', 0.9859445040286019)\n",
      "('amaz', 0.9333275954650538)\n",
      "PNEGATIVE\n",
      "('bad', -0.7074279189036066)\n",
      "('worst', -0.6655571092837114)\n",
      "('minut', -0.6496918696866013)\n",
      "('would', -0.6096031538246764)\n",
      "('terribl', -0.5779317580663517)\n"
     ]
    },
    {
     "name": "stderr",
     "output_type": "stream",
     "text": [
      "C:\\Users\\sahil\\anaconda3\\lib\\site-packages\\sklearn\\utils\\deprecation.py:87: FutureWarning: Function get_feature_names is deprecated; get_feature_names is deprecated in 1.0 and will be removed in 1.2. Please use get_feature_names_out instead.\n",
      "  warnings.warn(msg, category=FutureWarning)\n"
     ]
    }
   ],
   "source": [
    "features_to_coef = {\n",
    "    word: coef for word, coef in zip(cv.get_feature_names(), final_model.coef_[0])\n",
    "}\n",
    "\n",
    "print(\"POSITIVE\")\n",
    "for best_positive in sorted(features_to_coef.items(),\n",
    "                           key= lambda x : x[1],\n",
    "                           reverse=True)[:5]:\n",
    "    print(best_positive)\n",
    "    \n",
    "print(\"PNEGATIVE\")\n",
    "for best_negative in sorted(features_to_coef.items(),\n",
    "                           key= lambda x : x[1])[:5]:\n",
    "    print(best_negative)"
   ]
  },
  {
   "cell_type": "code",
   "execution_count": 34,
   "id": "933ec87c",
   "metadata": {},
   "outputs": [],
   "source": [
    "y_pred_lr = final_model.predict(X_test)"
   ]
  },
  {
   "cell_type": "code",
   "execution_count": 35,
   "id": "c229241f",
   "metadata": {},
   "outputs": [
    {
     "data": {
      "text/plain": [
       "array([[83, 14],\n",
       "       [37, 66]], dtype=int64)"
      ]
     },
     "execution_count": 35,
     "metadata": {},
     "output_type": "execute_result"
    }
   ],
   "source": [
    "confusion_matrix(y_test, y_pred_lr)"
   ]
  },
  {
   "cell_type": "code",
   "execution_count": 36,
   "id": "ebf28219",
   "metadata": {},
   "outputs": [
    {
     "data": {
      "text/plain": [
       "0.745"
      ]
     },
     "execution_count": 36,
     "metadata": {},
     "output_type": "execute_result"
    }
   ],
   "source": [
    "accuracy_score(y_test, y_pred_lr)"
   ]
  },
  {
   "cell_type": "markdown",
   "id": "229c2f90",
   "metadata": {},
   "source": [
    "* **For Logistic Regression we can see the model accuracy increased to 75% for Count Vectorizer**"
   ]
  },
  {
   "cell_type": "code",
   "execution_count": 37,
   "id": "608b71b7",
   "metadata": {},
   "outputs": [
    {
     "name": "stdout",
     "output_type": "stream",
     "text": [
      "Review is Positive.\n"
     ]
    }
   ],
   "source": [
    "Review = \"nice service\"\n",
    "\n",
    "input1 = [Review]\n",
    "input_data = cv.transform(input1).toarray()\n",
    "\n",
    "input_pred = final_model.predict(input_data)\n",
    "\n",
    "if input_pred[0]==1:\n",
    "    print(\"Review is Positive.\")\n",
    "else:\n",
    "    print(\"Review is Negative.\")"
   ]
  },
  {
   "cell_type": "code",
   "execution_count": 38,
   "id": "b7c8fe1d",
   "metadata": {},
   "outputs": [
    {
     "name": "stdout",
     "output_type": "stream",
     "text": [
      "Review is Negative.\n"
     ]
    }
   ],
   "source": [
    "Review = \"long wait time\"\n",
    "\n",
    "input1 = [Review]\n",
    "input_data = cv.transform(input1).toarray()\n",
    "\n",
    "input_pred = final_model.predict(input_data)\n",
    "\n",
    "if input_pred[0]==1:\n",
    "    print(\"Review is Positive.\")\n",
    "else:\n",
    "    print(\"Review is Negative.\")"
   ]
  },
  {
   "cell_type": "markdown",
   "id": "6566c459",
   "metadata": {},
   "source": [
    "### <font color=blue>Classification Report<font color> "
   ]
  },
  {
   "cell_type": "code",
   "execution_count": 39,
   "id": "f48aa95b",
   "metadata": {},
   "outputs": [
    {
     "name": "stdout",
     "output_type": "stream",
     "text": [
      "              precision    recall  f1-score   support\n",
      "\n",
      "    Positive       0.69      0.86      0.76        97\n",
      "    Negative       0.82      0.64      0.72       103\n",
      "\n",
      "    accuracy                           0.74       200\n",
      "   macro avg       0.76      0.75      0.74       200\n",
      "weighted avg       0.76      0.74      0.74       200\n",
      "\n"
     ]
    }
   ],
   "source": [
    "target_names = ['Positive', 'Negative']\n",
    "print(classification_report(y_test, y_pred_lr, target_names=target_names))"
   ]
  },
  {
   "cell_type": "markdown",
   "id": "5baf7d08",
   "metadata": {},
   "source": [
    "### <font color = blue>ROC AUC Curve<font color>"
   ]
  },
  {
   "cell_type": "code",
   "execution_count": 40,
   "id": "d0886bec",
   "metadata": {},
   "outputs": [
    {
     "data": {
      "image/png": "[encoded data removed]",
      "text/plain": [
       "<Figure size 640x480 with 1 Axes>"
      ]
     },
     "metadata": {},
     "output_type": "display_data"
    }
   ],
   "source": [
    "rocAuc = roc_auc_score(y_test, y_pred_lr)\n",
    "falsePositiveRate, truePositiveRate, _ = roc_curve(y_test, y_pred_lr)\n",
    "\n",
    "plt.figure()\n",
    "\n",
    "plt.plot(falsePositiveRate, truePositiveRate, color='green',\n",
    "        lw=3, label=\"ROC curve (area = %0.2f)\" %rocAuc)\n",
    "plt.plot([0,1], [0,1], color='navy', lw=3, linestyle=\"--\")\n",
    "plt.xlim([0.0, 1.0])\n",
    "plt.ylim([0.0, 1.05])\n",
    "plt.xlabel(\"False Positive Rate\")\n",
    "plt.ylabel(\"True Positive Rate\")\n",
    "plt.title(\"Receiver Operating Characteristics of Sentiment Analysis Model\")\n",
    "plt.legend(loc=\"lower right\")\n",
    "plt.show()"
   ]
  },
  {
   "cell_type": "markdown",
   "id": "6bb13ecb",
   "metadata": {},
   "source": [
    "### <font color=blue>CONFUSION MATRIX<font color>"
   ]
  },
  {
   "cell_type": "code",
   "execution_count": 41,
   "id": "19e2b9e3",
   "metadata": {},
   "outputs": [
    {
     "data": {
      "text/plain": [
       "array([[83, 14],\n",
       "       [37, 66]], dtype=int64)"
      ]
     },
     "execution_count": 41,
     "metadata": {},
     "output_type": "execute_result"
    }
   ],
   "source": [
    "cm = confusion_matrix(y_test, y_pred_lr)\n",
    "cm"
   ]
  },
  {
   "cell_type": "code",
   "execution_count": 42,
   "id": "88ac660f",
   "metadata": {},
   "outputs": [
    {
     "data": {
      "image/png": "[encoded data removed]",
      "text/plain": [
       "<Figure size 640x480 with 2 Axes>"
      ]
     },
     "metadata": {},
     "output_type": "display_data"
    }
   ],
   "source": [
    "sns.set(font_scale=1.4) # for label size\n",
    "x_axis_labels = y_axis_labels = target_names\n",
    "sns.heatmap(cm, annot=True, annot_kws={\"size\":16}, fmt='g',\n",
    "           xticklabels=x_axis_labels,\n",
    "           yticklabels=y_axis_labels)\n",
    "plt.show()"
   ]
  },
  {
   "cell_type": "markdown",
   "id": "c72e5245",
   "metadata": {},
   "source": [
    "# <font color=blue> TF-IDF ( TERM FREQUENCY-INVERSE DOCUMENT FREQUENCY ) <font color>"
   ]
  },
  {
   "cell_type": "code",
   "execution_count": 43,
   "id": "01d325aa",
   "metadata": {},
   "outputs": [
    {
     "data": {
      "text/html": [
       "<div>\n",
       "<style scoped>\n",
       "    .dataframe tbody tr th:only-of-type {\n",
       "        vertical-align: middle;\n",
       "    }\n",
       "\n",
       "    .dataframe tbody tr th {\n",
       "        vertical-align: top;\n",
       "    }\n",
       "\n",
       "    .dataframe thead th {\n",
       "        text-align: right;\n",
       "    }\n",
       "</style>\n",
       "<table border=\"1\" class=\"dataframe\">\n",
       "  <thead>\n",
       "    <tr style=\"text-align: right;\">\n",
       "      <th></th>\n",
       "      <th>Review_new</th>\n",
       "    </tr>\n",
       "  </thead>\n",
       "  <tbody>\n",
       "    <tr>\n",
       "      <th>0</th>\n",
       "      <td>wow love place</td>\n",
       "    </tr>\n",
       "    <tr>\n",
       "      <th>1</th>\n",
       "      <td>crust good</td>\n",
       "    </tr>\n",
       "    <tr>\n",
       "      <th>2</th>\n",
       "      <td>tasti textur nasti</td>\n",
       "    </tr>\n",
       "    <tr>\n",
       "      <th>3</th>\n",
       "      <td>stop late may bank holiday rick steve recommen...</td>\n",
       "    </tr>\n",
       "    <tr>\n",
       "      <th>4</th>\n",
       "      <td>select menu great price</td>\n",
       "    </tr>\n",
       "  </tbody>\n",
       "</table>\n",
       "</div>"
      ],
      "text/plain": [
       "                                          Review_new\n",
       "0                                     wow love place\n",
       "1                                         crust good\n",
       "2                                 tasti textur nasti\n",
       "3  stop late may bank holiday rick steve recommen...\n",
       "4                            select menu great price"
      ]
     },
     "execution_count": 43,
     "metadata": {},
     "output_type": "execute_result"
    }
   ],
   "source": [
    "review_rest.head()"
   ]
  },
  {
   "cell_type": "code",
   "execution_count": 44,
   "id": "58813be6",
   "metadata": {},
   "outputs": [
    {
     "data": {
      "text/plain": [
       "(1000, 1)"
      ]
     },
     "execution_count": 44,
     "metadata": {},
     "output_type": "execute_result"
    }
   ],
   "source": [
    "review_rest.shape"
   ]
  },
  {
   "cell_type": "code",
   "execution_count": 45,
   "id": "2517ac62",
   "metadata": {},
   "outputs": [
    {
     "data": {
      "text/plain": [
       "(1000,)"
      ]
     },
     "execution_count": 45,
     "metadata": {},
     "output_type": "execute_result"
    }
   ],
   "source": [
    "y.shape"
   ]
  },
  {
   "cell_type": "code",
   "execution_count": 46,
   "id": "ae5dff96",
   "metadata": {},
   "outputs": [
    {
     "name": "stdout",
     "output_type": "stream",
     "text": [
      "{'wow': 1547, 'love': 802, 'place': 1028, 'crust': 324, 'good': 594, 'tasti': 1362, 'textur': 1374, 'nasti': 900, 'stop': 1311, 'late': 762, 'may': 834, 'bank': 92, 'holiday': 667, 'rick': 1149, 'steve': 1304, 'recommend': 1115, 'select': 1205, 'menu': 852, 'great': 608, 'price': 1062, 'get': 578, 'angri': 33, 'want': 1497, 'damn': 333, 'pho': 1016, 'honeslti': 670, 'tast': 1360, 'fresh': 553, 'potato': 1054, 'like': 785, 'rubber': 1163, 'could': 297, 'tell': 1367, 'made': 813, 'ahead': 15, 'time': 1396, 'kept': 745, 'warmer': 1499, 'fri': 554, 'touch': 1414, 'servic': 1214, 'prompt': 1074, 'would': 1545, 'go': 588, 'back': 83, 'cashier': 213, 'care': 205, 'ever': 461, 'say': 1190, 'still': 1306, 'end': 445, 'wayyy': 1507, 'overpr': 967, 'tri': 1424, 'cape': 201, 'cod': 259, 'ravoli': 1105, 'chicken': 236, 'cranberri': 310, 'mmmm': 872, 'disgust': 384, 'pretti': 1061, 'sure': 1346, 'human': 687, 'hair': 628, 'shock': 1223, 'sign': 1234, 'indic': 709, 'cash': 211, 'highli': 660, 'waitress': 1494, 'littl': 791, 'slow': 1247, 'worth': 1544, 'let': 777, 'alon': 23, 'vega': 1468, 'burritto': 182, 'blah': 133, 'food': 539, 'amaz': 27, 'also': 24, 'cute': 331, 'less': 776, 'interior': 723, 'beauti': 108, 'perform': 1008, 'right': 1151, 'red': 1116, 'velvet': 1474, 'cake': 192, 'ohhh': 936, 'stuff': 1324, 'never': 909, 'brought': 168, 'salad': 1174, 'ask': 59, 'hole': 666, 'wall': 1496, 'mexican': 856, 'street': 1316, 'taco': 1352, 'friendli': 557, 'staff': 1292, 'took': 1408, 'hour': 682, 'tabl': 1351, 'restaur': 1139, 'luke': 808, 'warm': 1498, 'sever': 1216, 'run': 1165, 'around': 55, 'total': 1413, 'overwhelm': 968, 'worst': 1543, 'salmon': 1175, 'sashimi': 1183, 'combo': 266, 'burger': 180, 'beer': 111, 'decent': 340, 'deal': 339, 'final': 515, 'blow': 142, 'found': 546, 'accid': 2, 'happier': 639, 'seem': 1203, 'quick': 1092, 'grab': 601, 'bite': 131, 'familiar': 492, 'pub': 1079, 'favor': 502, 'look': 797, 'elsewher': 441, 'overal': 964, 'lot': 800, 'redeem': 1117, 'qualiti': 1090, 'inexpens': 712, 'ampl': 31, 'portion': 1050, 'poor': 1046, 'waiter': 1493, 'feel': 505, 'stupid': 1325, 'everi': 462, 'came': 196, 'first': 522, 'visit': 1485, 'hiro': 664, 'delight': 355, 'suck': 1332, 'shrimp': 1231, 'tender': 1370, 'moist': 874, 'enough': 448, 'drag': 404, 'establish': 455, 'hard': 640, 'judg': 741, 'whether': 1521, 'side': 1233, 'gross': 618, 'melt': 849, 'styrofoam': 1327, 'eat': 424, 'fear': 504, 'sick': 1232, 'posit': 1051, 'note': 923, 'server': 1213, 'attent': 66, 'provid': 1078, 'frozen': 559, 'puck': 1082, 'peopl': 1004, 'behind': 113, 'regist': 1124, 'thing': 1382, 'prime': 1064, 'rib': 1145, 'dessert': 366, 'section': 1201, 'bad': 85, 'gener': 576, 'beef': 110, 'cook': 289, 'sandwich': 1181, 'firehous': 521, 'greek': 611, 'dress': 409, 'pita': 1026, 'hummu': 689, 'refresh': 1121, 'order': 952, 'duck': 417, 'rare': 1099, 'pink': 1024, 'insid': 717, 'nice': 912, 'char': 223, 'outsid': 960, 'us': 1459, 'realiz': 1109, 'husband': 693, 'left': 771, 'sunglass': 1343, 'chow': 244, 'mein': 847, 'horribl': 676, 'attitud': 67, 'toward': 1416, 'custom': 329, 'talk': 1356, 'one': 944, 'enjoy': 447, 'huge': 686, 'wonder': 1535, 'imagin': 700, 'heart': 649, 'attack': 65, 'grill': 614, 'downtown': 403, 'absolut': 0, 'flat': 526, 'line': 788, 'excus': 471, 'much': 887, 'seafood': 1196, 'string': 1319, 'pasta': 990, 'bottom': 153, 'amount': 30, 'sauc': 1187, 'power': 1057, 'scallop': 1191, 'perfectli': 1007, 'rip': 1154, 'banana': 91, 'petrifi': 1012, 'tasteless': 1361, 'least': 768, 'think': 1383, 'refil': 1119, 'water': 1504, 'struggl': 1322, 'wave': 1505, 'minut': 867, 'receiv': 1113, 'star': 1295, 'appet': 48, 'cocktail': 257, 'handmad': 635, 'delici': 353, 'definit': 349, 'glad': 583, 'give': 581, 'militari': 862, 'discount': 382, 'alway': 26, 'do': 389, 'gringo': 615, 'updat': 1456, 'went': 1517, 'second': 1200, 'got': 598, 'appar': 46, 'heard': 648, 'salt': 1177, 'batter': 102, 'fish': 523, 'chewi': 235, 'way': 1506, 'finish': 519, 'includ': 705, 'drink': 412, 'jeff': 731, 'beyond': 120, 'expect': 473, 'realli': 1110, 'rice': 1147, 'meh': 846, 'min': 865, 'milkshak': 864, 'noth': 924, 'chocol': 241, 'milk': 863, 'guess': 623, 'known': 754, 'excalibur': 467, 'use': 1460, 'common': 269, 'sens': 1208, 'dish': 385, 'quit': 1094, 'appal': 45, 'valu': 1465, 'well': 1516, 'sweet': 1349, 'season': 1198, 'today': 1401, 'lunch': 810, 'buffet': 175, 'cheat': 228, 'wast': 1502, 'opportun': 949, 'compani': 270, 'come': 267, 'experienc': 476, 'underwhelm': 1443, 'relationship': 1128, 'parti': 986, 'wait': 1492, 'person': 1011, 'break': 161, 'walk': 1495, 'smell': 1252, 'old': 939, 'greas': 606, 'trap': 1422, 'other': 954, 'turkey': 1434, 'roast': 1156, 'bland': 135, 'pan': 978, 'everyon': 463, 'rave': 1104, 'sugari': 1336, 'disast': 380, 'tailor': 1353, 'palat': 975, 'six': 1243, 'year': 1555, 'spring': 1290, 'roll': 1158, 'oh': 935, 'yummi': 1563, 'meat': 839, 'ratio': 1103, 'unsatisfi': 1452, 'omelet': 942, 'die': 369, 'everyth': 464, 'summari': 1339, 'larg': 758, 'disappoint': 378, 'dine': 372, 'experi': 475, 'sexi': 1218, 'mouth': 883, 'outrag': 958, 'flirt': 531, 'hottest': 681, 'rock': 1157, 'casino': 214, 'step': 1303, 'forward': 545, 'best': 118, 'breakfast': 162, 'bye': 187, 'tip': 1398, 'ladi': 757, 'arriv': 57, 'quickli': 1093, 'cafe': 191, 'serv': 1212, 'fantast': 496, 'wife': 1526, 'garlic': 572, 'bone': 148, 'marrow': 831, 'ad': 11, 'extra': 480, 'meal': 837, 'anoth': 35, 'help': 656, 'bloddi': 139, 'mari': 828, 'town': 1417, 'cannot': 199, 'beat': 106, 'mussel': 893, 'wine': 1528, 'reduct': 1118, 'better': 119, 'tigerlilli': 1395, 'afternoon': 13, 'bartend': 96, 'ambienc': 29, 'music': 892, 'play': 1035, 'next': 911, 'trip': 1427, 'sooooo': 1269, 'real': 1108, 'sushi': 1348, 'lover': 803, 'honest': 671, 'yama': 1552, 'pass': 988, 'busi': 183, 'thai': 1376, 'spici': 1284, 'check': 229, 'atmospher': 62, 'kind': 751, 'mess': 854, 'steak': 1300, 'although': 25, 'sound': 1273, 'actual': 10, 'bit': 129, 'know': 753, 'manag': 823, 'blandest': 136, 'eaten': 425, 'prepar': 1059, 'indian': 708, 'cuisin': 327, 'boot': 150, 'worri': 1541, 'fine': 517, 'guy': 625, 'son': 1265, 'said': 1172, 'thought': 1389, 'ventur': 1476, 'away': 74, 'hit': 665, 'spot': 1288, 'night': 914, 'host': 678, 'lack': 756, 'word': 1537, 'bitch': 130, 'number': 926, 'reason': 1111, 'review': 1141, 'leav': 770, 'phenomen': 1014, 'ambianc': 28, 'return': 1140, 'strip': 1320, 'pork': 1049, 'belli': 116, 'mediocr': 842, 'penn': 1003, 'vodka': 1486, 'excel': 469, 'massiv': 833, 'meatloaf': 841, 'crispi': 319, 'wrap': 1548, 'delish': 356, 'tuna': 1433, 'rude': 1164, 'nyc': 929, 'bagel': 86, 'cream': 314, 'chees': 231, 'lox': 805, 'caper': 202, 'even': 459, 'subway': 1330, 'fact': 485, 'meet': 845, 'serious': 1210, 'solid': 1258, 'bar': 93, 'extrem': 482, 'mani': 826, 'weekend': 1512, 'empti': 444, 'suggest': 1337, 'ate': 61, 'curri': 328, 'bamboo': 90, 'shoot': 1225, 'blanket': 137, 'moz': 885, 'top': 1409, 'done': 392, 'cover': 304, 'subpar': 1329, 'bathroom': 101, 'clean': 252, 'decor': 343, 'chang': 222, 'consid': 283, 'pace': 972, 'thumb': 1394, 'watch': 1503, 'pay': 996, 'ignor': 698, 'fianc': 510, 'middl': 859, 'day': 337, 'greet': 613, 'seat': 1199, 'mandalay': 824, 'bay': 103, 'forti': 544, 'five': 524, 'vain': 1463, 'crostini': 320, 'stale': 1293, 'highlight': 661, 'nigiri': 915, 'joint': 738, 'differ': 370, 'cut': 330, 'piec': 1020, 'flavor': 527, 'voodoo': 1488, 'sinc': 1240, 'gluten': 587, 'free': 550, 'ago': 14, 'unfortun': 1445, 'must': 894, 'bakeri': 87, 'leftov': 772, 'reloc': 1131, 'impress': 703, 'immedi': 701, 'divers': 388, 'avoid': 72, 'cost': 294, 'full': 564, 'hand': 633, 'phoenix': 1017, 'metro': 855, 'area': 52, 'treat': 1423, 'bacon': 84, 'hella': 654, 'salti': 1178, 'spinach': 1286, 'avocado': 71, 'ingredi': 715, 'sad': 1168, 'liter': 790, 'zero': 1564, 'list': 789, 'lordi': 798, 'khao': 747, 'soi': 1257, 'miss': 869, 'terrif': 1373, 'thrill': 1391, 'accommod': 3, 'vegetarian': 1471, 'daughter': 336, 'perhap': 1009, 'caught': 216, 'inspir': 718, 'desir': 363, 'modern': 873, 'hip': 663, 'maintain': 819, 'cozi': 306, 'weekli': 1513, 'haunt': 644, 'sat': 1184, 'take': 1354, 'overcook': 965, 'charcoal': 224, 'decid': 341, 'send': 1207, 'verg': 1478, 'probabl': 1067, 'dirt': 375, 'someth': 1262, 'healthi': 647, 'quantiti': 1091, 'lemon': 775, 'raspberri': 1100, 'ice': 696, 'incred': 707, 'interest': 722, 'crepe': 317, 'station': 1298, 'hot': 680, 'bread': 160, 'butter': 185, 'home': 668, 'chip': 238, 'origin': 953, 'egg': 435, 'gyro': 626, 'wing': 1529, 'satisfi': 1186, 'joey': 736, 'vote': 1489, 'dog': 390, 'valley': 1464, 'reader': 1107, 'magazin': 816, 'bowl': 156, 'live': 792, 'friday': 555, 'insult': 721, 'felt': 509, 'disrespect': 387, 'drive': 414, 'exceed': 468, 'hope': 675, 'dream': 407, 'serivc': 1211, 'brunch': 170, 'invit': 724, 'last': 760, 'foot': 540, 'mix': 871, 'mushroom': 891, 'yukon': 1561, 'gold': 591, 'pure': 1086, 'white': 1522, 'corn': 291, 'beateou': 107, 'bug': 176, 'show': 1229, 'given': 582, 'climb': 253, 'kitchen': 752, 'soon': 1267, 'friend': 556, 'tartar': 1359, 'though': 1388, 'soggi': 1256, 'jamaican': 729, 'mojito': 875, 'small': 1248, 'rich': 1148, 'accordingli': 5, 'shower': 1230, 'rins': 1153, 'unless': 1449, 'mind': 866, 'nude': 925, 'see': 1202, 'lobster': 793, 'bisqu': 128, 'bussel': 184, 'sprout': 1291, 'risotto': 1155, 'filet': 512, 'need': 904, 'pepper': 1005, 'cours': 301, 'none': 920, 'bode': 146, 'someon': 1261, 'either': 437, 'cold': 261, 'date': 335, 'unbeliev': 1440, 'bargain': 95, 'folk': 537, 'otto': 956, 'make': 820, 'welcom': 1515, 'special': 1280, 'main': 818, 'uninspir': 1447, 'whenev': 1520, 'world': 1540, 'annoy': 34, 'drunk': 416, 'fun': 565, 'chef': 234, 'doubl': 396, 'cheeseburg': 232, 'singl': 1241, 'patti': 995, 'fall': 490, 'apart': 42, 'pictur': 1019, 'upload': 1458, 'yeah': 1554, 'coupl': 299, 'sport': 1287, 'event': 460, 'tv': 1436, 'possibl': 1052, 'descript': 361, 'yum': 1562, 'eel': 431, 'yet': 1559, 'mayo': 836, 'hardest': 641, 'decis': 342, 'honestli': 672, 'suppos': 1345, 'eye': 483, 'stay': 1299, 'money': 877, 'flavour': 529, 'almost': 22, 'build': 177, 'freez': 551, 'close': 254, 'point': 1042, 'ayc': 78, 'light': 782, 'dark': 334, 'set': 1215, 'mood': 880, 'base': 97, 'sub': 1328, 'par': 982, 'effort': 434, 'gratitud': 604, 'owner': 970, 'privileg': 1065, 'work': 1538, 'creami': 315, 'parent': 984, 'similar': 1236, 'complaint': 273, 'silent': 1235, 'pizza': 1027, 'peanut': 1000, 'fast': 499, 'godfath': 590, 'tough': 1415, 'short': 1227, 'stick': 1305, 'recal': 1112, 'charg': 225, 'tap': 1357, 'exquisit': 478, 'plu': 1040, 'buck': 174, 'thu': 1393, 'far': 497, 'twice': 1437, 'self': 1206, 'proclaim': 1069, 'coffe': 260, 'wildli': 1527, 'veggitarian': 1473, 'platter': 1034, 'cant': 200, 'wrong': 1550, 'madison': 815, 'ironman': 725, 'job': 735, 'dedic': 344, 'boba': 145, 'tea': 1364, 'jenni': 732, 'patio': 993, 'outstand': 961, 'goat': 589, 'skimp': 1244, 'mac': 811, 'bachi': 82, 'stink': 1307, 'burn': 181, 'saganaki': 1171, 'hate': 643, 'disagre': 377, 'fellow': 508, 'yelper': 1558, 'later': 763, 'neighborhood': 907, 'conveni': 288, 'locat': 794, 'pull': 1083, 'soooo': 1268, 'gave': 573, 'rate': 1101, 'pleas': 1036, 'third': 1385, 'write': 1549, 'stir': 1308, 'noodl': 921, 'count': 298, 'box': 157, 'bore': 151, 'greedi': 610, 'corpor': 292, 'dime': 371, 'atroci': 63, 'summer': 1340, 'charm': 226, 'outdoor': 957, 'toast': 1400, 'english': 446, 'muffin': 888, 'untoast': 1453, 'high': 659, 'hous': 683, 'bu': 173, 'boy': 158, 'basic': 99, 'figur': 511, 'joke': 739, 'publicli': 1081, 'loudli': 801, 'bbq': 104, 'lighter': 783, 'fare': 498, 'public': 1080, 'two': 1438, 'happi': 638, 'downsid': 402, 'without': 1534, 'doubt': 397, 'except': 470, 'month': 879, 'favorit': 503, 'shawarrrrrrma': 1221, 'black': 132, 'pea': 998, 'unreal': 1451, 'vinaigrett': 1482, 'seen': 1204, 'especi': 454, 'mom': 876, 'pleasant': 1037, 'honor': 673, 'hut': 694, 'coupon': 300, 'truli': 1430, 'dirti': 376, 'replenish': 1134, 'plain': 1029, 'yucki': 1560, 'standard': 1294, 'omg': 943, 'delicioso': 354, 'authent': 69, 'spaghetti': 1279, 'whatsoev': 1518, 'veget': 1470, 'tucson': 1431, 'chipotl': 240, 'classi': 250, 'succul': 1331, 'basebal': 98, 'brick': 164, 'oven': 963, 'app': 44, 'multipl': 890, 'ten': 1369, 'terribl': 1372, 'equal': 453, 'pancak': 979, 'genuin': 577, 'enthusiast': 450, 'sadli': 1169, 'gordon': 597, 'ramsey': 1095, 'shall': 1219, 'sharpli': 1220, 'life': 781, 'door': 395, 'offer': 933, 'cool': 290, 'turn': 1435, 'els': 440, 'buy': 186, 'handl': 634, 'rowdi': 1162, 'find': 516, 'despic': 364, 'soup': 1275, 'lukewarm': 809, 'crave': 311, 'deserv': 362, 'stomach': 1309, 'ach': 7, 'rest': 1137, 'drop': 415, 'ball': 89, 'space': 1278, 'tini': 1397, 'elegantli': 438, 'comfort': 268, 'usual': 1461, 'eggplant': 436, 'green': 612, 'bean': 105, 'outta': 962, 'part': 985, 'inconsider': 706, 'hi': 658, 'dinner': 373, 'outshin': 959, 'halibut': 630, 'told': 1403, 'happen': 637, 'car': 203, 'front': 558, 'starv': 1297, 'disgrac': 383, 'def': 347, 'ethic': 457, 'continu': 287, 'andddd': 32, 'anyon': 38, 'past': 989, 'stuf': 1323, 'crystal': 326, 'shop': 1226, 'mall': 821, 'aria': 54, 'summar': 1338, 'nay': 901, 'transcend': 1421, 'bring': 165, 'joy': 740, 'memori': 850, 'pneumat': 1041, 'condiment': 280, 'dispens': 386, 'ian': 695, 'kid': 748, 'option': 951, 'kiddo': 749, 'perfect': 1006, 'famili': 491, 'impecc': 702, 'simpli': 1239, 'bouchon': 154, 'account': 6, 'screw': 1195, 'remind': 1133, 'pop': 1048, 'san': 1180, 'francisco': 548, 'buldogi': 178, 'gourmet': 600, 'frustrat': 561, 'petti': 1013, 'hungri': 691, 'assur': 60, 'teeth': 1366, 'sore': 1271, 'complet': 274, 'becom': 109, 'regular': 1125, 'profession': 1070, 'companion': 271, 'ground': 619, 'smear': 1251, 'track': 1418, 'everywher': 465, 'pile': 1021, 'bird': 126, 'poop': 1045, 'furthermor': 567, 'oper': 947, 'websit': 1509, 'mistak': 870, 'expert': 477, 'connisseur': 281, 'topic': 1410, 'jerk': 733, 'strike': 1318, 'rush': 1166, 'nicest': 913, 'across': 9, 'biscuit': 127, 'absolutley': 1, 'awkward': 76, 'lb': 767, 'cow': 305, 'th': 1375, 'gristl': 616, 'fat': 500, 'steiner': 1302, 'dollar': 391, 'anyway': 41, 'fs': 562, 'week': 1511, 'mention': 851, 'combin': 265, 'pear': 1001, 'almond': 21, 'big': 121, 'winner': 1530, 'spicier': 1285, 'prefer': 1058, 'ribey': 1146, 'mesquit': 853, 'anytim': 40, 'gooodd': 596, 'connoisseur': 282, 'certainli': 219, 'contain': 286, 'driest': 411, 'relax': 1129, 'venu': 1477, 'group': 620, 'etc': 456, 'nargil': 899, 'tater': 1363, 'tot': 1412, 'southwest': 1277, 'paid': 974, 'vanilla': 1466, 'smooth': 1254, 'profiterol': 1071, 'choux': 243, 'pastri': 991, 'im': 699, 'az': 79, 'new': 910, 'carli': 206, 'due': 419, 'acknowledg': 8, 'forget': 542, 'margarita': 827, 'ventil': 1475, 'upgrad': 1457, 'letdown': 778, 'rather': 1102, 'camelback': 197, 'flower': 533, 'cartel': 209, 'trim': 1426, 'claim': 248, 'bill': 124, 'jewel': 734, 'la': 755, 'exactli': 466, 'nearli': 902, 'limit': 787, 'boil': 147, 'crab': 308, 'leg': 773, 'toro': 1411, 'cavier': 218, 'extraordinari': 481, 'thinli': 1384, 'slice': 1246, 'wagyu': 1491, 'truffl': 1429, 'dont': 393, 'long': 795, 'attach': 64, 'ga': 569, 'awesom': 75, 'wors': 1542, 'humili': 688, 'worker': 1539, 'bunch': 179, 'name': 897, 'call': 194, 'conclus': 279, 'fill': 513, 'daili': 332, 'tragedi': 1420, 'struck': 1321, 'crawfish': 312, 'monster': 878, 'funni': 566, 'multi': 889, 'grain': 602, 'pumpkin': 1084, 'pecan': 1002, 'fluffi': 534, 'airlin': 16, 'noca': 918, 'lettuc': 779, 'thoroughli': 1387, 'homemad': 669, 'thin': 1381, 'cheesecurd': 233, 'typic': 1439, 'glanc': 584, 'finger': 518, 'item': 727, 'gone': 593, 'greasi': 607, 'unhealthi': 1446, 'might': 860, 'similarli': 1237, 'deliveri': 358, 'man': 822, 'apolog': 43, 'expens': 474, 'pack': 973, 'tiramisu': 1399, 'cannoli': 198, 'sun': 1341, 'whole': 1523, 'choos': 242, 'frenchman': 552, 'martini': 832, 'opinion': 948, 'entre': 452, 'gc': 574, 'sampl': 1179, 'thirti': 1386, 'vacant': 1462, 'yellowtail': 1557, 'carpaccio': 207, 'stranger': 1314, 'hello': 655, 'strang': 1313, 'boyfriend': 159, 'recent': 1114, 'donut': 394, 'save': 1189, 'room': 1159, 'mayb': 835, 'howev': 684, 'particular': 987, 'suffer': 1334, 'tapa': 1358, 'vinegrett': 1483, 'babi': 81, 'palm': 977, 'believ': 114, 'hanker': 636, 'forth': 543, 'theft': 1379, 'eew': 432, 'overhaul': 966, 'wit': 1533, 'guest': 624, 'regularli': 1126, 'super': 1344, 'swung': 1350, 'deepli': 346, 'effici': 433, 'fan': 494, 'sucker': 1333, 'dri': 410, 'cheap': 227, 'oliv': 941, 'perpar': 1010, 'present': 1060, 'giant': 579, 'lightli': 784, 'dust': 421, 'powder': 1056, 'sugar': 1335, 'fo': 535, 'accomod': 4, 'vegan': 1469, 'veggi': 1472, 'crumbi': 323, 'pale': 976, 'color': 264, 'instead': 720, 'crouton': 321, 'crema': 316, 'caf': 190, 'expand': 472, 'wish': 1532, 'philadelphia': 1015, 'sit': 1242, 'fairli': 488, 'crisp': 318, 'north': 922, 'scottsdal': 1193, 'soooooo': 1270, 'freak': 549, 'paper': 981, 'reheat': 1127, 'ok': 938, 'wedg': 1510, 'sorri': 1272, 'tongu': 1406, 'cheek': 230, 'bloodi': 140, 'despit': 365, 'yellow': 1556, 'saffron': 1170, 'thru': 1392, 'mean': 838, 'half': 629, 'somehow': 1260, 'luck': 807, 'non': 919, 'focus': 536, 'grandmoth': 603, 'hostess': 679, 'four': 547, 'blue': 144, 'shirt': 1222, 'vibe': 1481, 'drastic': 405, 'caesar': 189, 'promptli': 1075, 'madhous': 814, 'proven': 1077, 'dead': 338, 'greatest': 609, 'macaron': 812, 'insan': 716, 'inform': 714, 'somewhat': 1264, 'edibl': 428, 'promis': 1073, 'fail': 486, 'deliv': 357, 'averag': 70, 'plater': 1033, 'togeth': 1402, 'poorli': 1047, 'construct': 285, 'italian': 726, 'scream': 1194, 'legit': 774, 'book': 149, 'somethat': 1263, 'duo': 420, 'violinist': 1484, 'song': 1266, 'request': 1135, 'baklava': 88, 'falafel': 489, 'baba': 80, 'ganoush': 570, 'mgm': 857, 'courteou': 303, 'eclect': 426, 'onion': 945, 'ring': 1152, 'nobu': 917, 'googl': 595, 'smashburg': 1250, 'gem': 575, 'plantain': 1030, 'spend': 1282, 'panna': 980, 'cotta': 296, 'slaw': 1245, 'drench': 408, 'piano': 1018, 'soundtrack': 1274, 'rge': 1143, 'fillet': 514, 'relleno': 1130, 'plate': 1032, 'sergeant': 1209, 'auju': 68, 'hawaiian': 645, 'breez': 163, 'mango': 825, 'magic': 817, 'pineappl': 1023, 'smoothi': 1255, 'mortifi': 881, 'needless': 905, 'drip': 413, 'mostli': 882, 'hospit': 677, 'industri': 711, 'paradis': 983, 'refrain': 1120, 'cibo': 246, 'longer': 796, 'famou': 493, 'read': 1106, 'pro': 1066, 'simpl': 1238, 'dough': 399, 'tonight': 1407, 'elk': 439, 'hook': 674, 'classic': 251, 'quaint': 1088, 'compliment': 275, 'thank': 1377, 'dylan': 422, 'tummi': 1432, 'gratuiti': 605, 'larger': 759, 'fli': 530, 'appl': 50, 'juic': 742, 'han': 632, 'nan': 898, 'bare': 94, 'ryan': 1167, 'edinburgh': 429, 'revisit': 1142, 'chines': 237, 'naan': 895, 'pine': 1022, 'nut': 927, 'airport': 17, 'speedi': 1281, 'calligraphi': 195, 'anyth': 39, 'complain': 272, 'stood': 1310, 'begin': 112, 'awkwardli': 77, 'open': 946, 'extens': 479, 'wide': 1524, 'array': 56, 'inflat': 713, 'smaller': 1249, 'grow': 621, 'rapidli': 1098, 'lil': 786, 'fuzzi': 568, 'fabul': 484, 'wonton': 1536, 'thick': 1380, 'level': 780, 'spice': 1283, 'whelm': 1519, 'crowd': 322, 'older': 940, 'mid': 858, 'arepa': 53, 'jalapeno': 728, 'that': 1378, 'shoe': 1224, 'leather': 769, 'defin': 348, 'block': 138, 'low': 804, 'key': 746, 'fanci': 495, 'afford': 12, 'sour': 1276, 'sunday': 1342, 'tradit': 1419, 'hunan': 690, 'style': 1326, 'bother': 152, 'flair': 525, 'nutshel': 928, 'restaraunt': 1138, 'market': 830, 'sewer': 1217, 'girlfriend': 580, 'veal': 1467, 'satifi': 1185, 'join': 737, 'club': 255, 'via': 1480, 'email': 442, 'case': 210, 'colder': 262, 'flavorless': 528, 'describ': 360, 'tepid': 1371, 'chain': 221, 'easili': 423, 'nacho': 896, 'crazi': 313, 'juri': 743, 'lawyer': 766, 'court': 302, 'wienerschnitzel': 1525, 'idea': 697, 'brother': 167, 'law': 765, 'herea': 657, 'tribut': 1425, 'held': 652, 'salsa': 1176, 'pissd': 1025, 'surpris': 1347, 'golden': 592, 'fell': 506, 'bruschetta': 171, 'devin': 368, 'employe': 443, 'lastli': 761, 'mozzarella': 886, 'neglig': 906, 'unwelcom': 1454, 'consist': 284, 'fruit': 560, 'peach': 999, 'offici': 934, 'blown': 143, 'put': 1087, 'plastic': 1031, 'oppos': 950, 'cram': 309, 'takeout': 1355, 'cr': 307, 'pe': 997, 'delic': 352, 'aw': 73, 'fair': 487, 'kabuki': 744, 'maria': 829, 'articl': 58, 'fuck': 563, 'caballero': 188, 'head': 646, 'oyster': 971, 'round': 1161, 'disbelief': 381, 'qualifi': 1089, 'version': 1479, 'toler': 1404, 'polit': 1044, 'wash': 1501, 'otherwis': 955, 'heat': 650, 'coconut': 258, 'fella': 507, 'huevo': 685, 'ranchero': 1097, 'appeal': 47, 'pricey': 1063, 'temp': 1368, 'glove': 586, 'deep': 345, 'oil': 937, 'pleasur': 1038, 'plethora': 1039, 'seal': 1197, 'approv': 51, 'colleg': 263, 'class': 249, 'start': 1296, 'edit': 430, 'besid': 117, 'costco': 295, 'uniqu': 1448, 'weird': 1514, 'hardli': 642, 'groceri': 617, 'store': 1312, 'japanes': 730, 'dude': 418, 'doughi': 400, 'inch': 704, 'wire': 1531, 'albondiga': 19, 'tomato': 1405, 'meatbal': 840, 'three': 1390, 'occas': 931, 'medium': 844, 'bloodiest': 141, 'refus': 1123, 'anymor': 37, 'killer': 750, 'chai': 220, 'latt': 764, 'allergi': 20, 'warn': 1500, 'clue': 256, 'mediterranean': 843, 'rotat': 1160, 'concern': 278, 'mellow': 848, 'strawberri': 1315, 'unprofession': 1450, 'loyal': 806, 'patron': 994, 'occasion': 932, 'pat': 992, 'bellagio': 115, 'anticip': 36, 'weak': 1508, 'correct': 293, 'bought': 155, 'sal': 1173, 'fav': 501, 'unexperienc': 1444, 'steakhous': 1301, 'properli': 1076, 'understand': 1442, 'concept': 277, 'guacamol': 622, 'pur': 1085, 'ed': 427, 'postino': 1053, 'poison': 1043, 'batch': 100, 'yay': 1553, 'hilari': 662, 'christma': 245, 'eve': 458, 'rememb': 1132, 'biggest': 123, 'entir': 451, 'teamwork': 1365, 'degre': 350, 'ri': 1144, 'calamari': 193, 'fondu': 538, 'lost': 799, 'forev': 541, 'scene': 1192, 'denni': 359, 'downright': 401, 'waaaaaayyyyyyyyyi': 1490, 'sangria': 1182, 'glass': 585, 'ridicul': 1150, 'brisket': 166, 'neat': 903, 'trippi': 1428, 'hurri': 692, 'reserv': 1136, 'stretch': 1317, 'cashew': 212, 'undercook': 1441, 'chipolt': 239, 'ranch': 1096, 'dip': 374, 'saus': 1188, 'douchey': 398, 'indoor': 710, 'garden': 571, 'con': 276, 'spotti': 1289, 'neither': 908, 'ensu': 449, 'bing': 125, 'carb': 204, 'profound': 1072, 'deuchebaggeri': 367, 'smoke': 1253, 'solidifi': 1259, 'ala': 18, 'cart': 208, 'blame': 134, 'del': 351, 'hamburg': 631, 'hell': 653, 'gotten': 599, 'ya': 1551, 'shot': 1228, 'firebal': 520, 'disapppoint': 379, 'heimer': 651, 'caus': 217, 'own': 969, 'vomit': 1487, 'circumst': 247, 'brownish': 169, 'obvious': 930, 'movi': 884, 'ha': 627, 'flop': 532, 'problem': 1068, 'bigger': 122, 'unwrap': 1455, 'mile': 861, 'brushfir': 172, 'mirag': 868, 'refri': 1122, 'crusti': 325, 'caterpillar': 215, 'appetit': 49, 'instantli': 719, 'ninja': 916, 'pour': 1055, 'wound': 1546, 'draw': 406}\n",
      "[5.60616969 7.2156076  7.2156076  ... 7.2156076  6.29931687 6.29931687]\n"
     ]
    }
   ],
   "source": [
    "tfidf = TfidfVectorizer()\n",
    "\n",
    "X = tfidf.fit_transform(review_rest['Review_new'])\n",
    "print(tfidf.vocabulary_)\n",
    "print(tfidf.idf_)"
   ]
  },
  {
   "cell_type": "code",
   "execution_count": 47,
   "id": "7ffc5391",
   "metadata": {},
   "outputs": [
    {
     "name": "stdout",
     "output_type": "stream",
     "text": [
      "[[0. 0. 0. ... 0. 0. 0.]\n",
      " [0. 0. 0. ... 0. 0. 0.]\n",
      " [0. 0. 0. ... 0. 0. 0.]\n",
      " ...\n",
      " [0. 0. 0. ... 0. 0. 0.]\n",
      " [0. 0. 0. ... 0. 0. 0.]\n",
      " [0. 0. 0. ... 0. 0. 0.]]\n"
     ]
    }
   ],
   "source": [
    "X = X.toarray()\n",
    "print(X)"
   ]
  },
  {
   "cell_type": "code",
   "execution_count": 48,
   "id": "7f497755",
   "metadata": {},
   "outputs": [
    {
     "data": {
      "text/plain": [
       "(1000, 1565)"
      ]
     },
     "execution_count": 48,
     "metadata": {},
     "output_type": "execute_result"
    }
   ],
   "source": [
    "X.shape"
   ]
  },
  {
   "cell_type": "markdown",
   "id": "01b9149e",
   "metadata": {},
   "source": [
    "### <font color = blue>TRAIN TEST SPLIT<font color>"
   ]
  },
  {
   "cell_type": "code",
   "execution_count": 49,
   "id": "e0a3186b",
   "metadata": {},
   "outputs": [],
   "source": [
    "X_train, X_test, y_train, y_test = train_test_split(X, y, test_size=0.20, random_state=0)"
   ]
  },
  {
   "cell_type": "code",
   "execution_count": 50,
   "id": "b0ca6044",
   "metadata": {},
   "outputs": [
    {
     "data": {
      "text/plain": [
       "((800, 1565), (200, 1565), (800,), (200,))"
      ]
     },
     "execution_count": 50,
     "metadata": {},
     "output_type": "execute_result"
    }
   ],
   "source": [
    "X_train.shape, X_test.shape, y_train.shape, y_test.shape"
   ]
  },
  {
   "cell_type": "markdown",
   "id": "3cc0d1ba",
   "metadata": {},
   "source": [
    "### <font color=blue> Gaussian Naive Bayes<font color>"
   ]
  },
  {
   "cell_type": "code",
   "execution_count": 51,
   "id": "2e581b5a",
   "metadata": {},
   "outputs": [
    {
     "data": {
      "text/plain": [
       "GaussianNB()"
      ]
     },
     "execution_count": 51,
     "metadata": {},
     "output_type": "execute_result"
    }
   ],
   "source": [
    "classifier = GaussianNB()\n",
    "classifier.fit(X_train, y_train)"
   ]
  },
  {
   "cell_type": "code",
   "execution_count": 52,
   "id": "888d0efc",
   "metadata": {},
   "outputs": [],
   "source": [
    "y_pred = classifier.predict(X_test)"
   ]
  },
  {
   "cell_type": "code",
   "execution_count": 53,
   "id": "33952f4c",
   "metadata": {},
   "outputs": [
    {
     "data": {
      "text/plain": [
       "array([[57, 40],\n",
       "       [16, 87]], dtype=int64)"
      ]
     },
     "execution_count": 53,
     "metadata": {},
     "output_type": "execute_result"
    }
   ],
   "source": [
    "confusion_matrix(y_test, y_pred)"
   ]
  },
  {
   "cell_type": "code",
   "execution_count": 54,
   "id": "d0fc9cf0",
   "metadata": {},
   "outputs": [
    {
     "data": {
      "text/plain": [
       "0.72"
      ]
     },
     "execution_count": 54,
     "metadata": {},
     "output_type": "execute_result"
    }
   ],
   "source": [
    "accuracy_score(y_test, y_pred)"
   ]
  },
  {
   "cell_type": "markdown",
   "id": "27604673",
   "metadata": {},
   "source": [
    "* **Accuracy score came out to be 72% in case of GaussianNB for TF-IDF**"
   ]
  },
  {
   "cell_type": "code",
   "execution_count": 55,
   "id": "8963dcfc",
   "metadata": {},
   "outputs": [
    {
     "name": "stdout",
     "output_type": "stream",
     "text": [
      "Review is Positive.\n"
     ]
    }
   ],
   "source": [
    "Review = \"nice service\"\n",
    "\n",
    "input1 = [Review]\n",
    "input_data = tfidf.transform(input1).toarray()\n",
    "\n",
    "input_pred = classifier.predict(input_data)\n",
    "\n",
    "if input_pred[0]==1:\n",
    "    print(\"Review is Positive.\")\n",
    "else:\n",
    "    print(\"Review is Negative.\")"
   ]
  },
  {
   "cell_type": "code",
   "execution_count": 56,
   "id": "15aee4f8",
   "metadata": {},
   "outputs": [
    {
     "name": "stdout",
     "output_type": "stream",
     "text": [
      "Review is Negative.\n"
     ]
    }
   ],
   "source": [
    "Review = \"long wait time\"\n",
    "\n",
    "input1 = [Review]\n",
    "input_data = tfidf.transform(input1).toarray()\n",
    "\n",
    "input_pred = classifier.predict(input_data)\n",
    "\n",
    "if input_pred[0]==1:\n",
    "    print(\"Review is Positive.\")\n",
    "else:\n",
    "    print(\"Review is Negative.\")"
   ]
  },
  {
   "cell_type": "markdown",
   "id": "95ecdad9",
   "metadata": {},
   "source": [
    "### <font color =blue>LOGISTIC REGRESSION and HYPER TUNING<font color>"
   ]
  },
  {
   "cell_type": "code",
   "execution_count": 57,
   "id": "49ce7ecd",
   "metadata": {},
   "outputs": [
    {
     "name": "stdout",
     "output_type": "stream",
     "text": [
      "Accuracy for C=0.01: 0.62\n",
      "Accuracy for C=0.05: 0.73\n",
      "Accuracy for C=0.25: 0.75\n",
      "Accuracy for C=0.5: 0.75\n",
      "Accuracy for C=1: 0.755\n"
     ]
    }
   ],
   "source": [
    "for c in [0.01, 0.05, 0.25, 0.5, 1]:\n",
    "    lr = LogisticRegression(penalty='l2', C=c, max_iter=7600, random_state=42)\n",
    "    lr.fit(X_train, y_train)\n",
    "    print(\"Accuracy for C=%s: %s\" %\n",
    "          (c, accuracy_score(y_test, lr.predict(X_test))))"
   ]
  },
  {
   "cell_type": "code",
   "execution_count": 58,
   "id": "ad240e6b",
   "metadata": {},
   "outputs": [
    {
     "data": {
      "text/plain": [
       "LogisticRegression(C=1, max_iter=7600, random_state=42)"
      ]
     },
     "execution_count": 58,
     "metadata": {},
     "output_type": "execute_result"
    }
   ],
   "source": [
    "final_model = LogisticRegression(penalty='l2', C=1, max_iter=7600, random_state=42)\n",
    "final_model.fit(X_train, y_train)\n",
    "final_model"
   ]
  },
  {
   "cell_type": "code",
   "execution_count": 59,
   "id": "2d7af12a",
   "metadata": {},
   "outputs": [
    {
     "data": {
      "text/plain": [
       "0.755"
      ]
     },
     "execution_count": 59,
     "metadata": {},
     "output_type": "execute_result"
    }
   ],
   "source": [
    "accuracy_score(y_test, final_model.predict(X_test))"
   ]
  },
  {
   "cell_type": "code",
   "execution_count": 60,
   "id": "bb818fba",
   "metadata": {},
   "outputs": [
    {
     "name": "stdout",
     "output_type": "stream",
     "text": [
      "POSITIVE\n",
      "('great', 3.3942835613497397)\n",
      "('delici', 2.1065600290260322)\n",
      "('love', 2.0624986529674803)\n",
      "('good', 1.833062968924548)\n",
      "('amaz', 1.83137440447037)\n",
      "NEGATIVE\n",
      "('bad', -1.392247244001017)\n",
      "('worst', -1.2924403710212593)\n",
      "('would', -1.286308879126651)\n",
      "('terribl', -1.2699875078992828)\n",
      "('minut', -1.2296055945904585)\n"
     ]
    },
    {
     "name": "stderr",
     "output_type": "stream",
     "text": [
      "C:\\Users\\sahil\\anaconda3\\lib\\site-packages\\sklearn\\utils\\deprecation.py:87: FutureWarning: Function get_feature_names is deprecated; get_feature_names is deprecated in 1.0 and will be removed in 1.2. Please use get_feature_names_out instead.\n",
      "  warnings.warn(msg, category=FutureWarning)\n"
     ]
    }
   ],
   "source": [
    "features_to_coef = {\n",
    "    word: coef for word, coef in zip(tfidf.get_feature_names(), final_model.coef_[0])\n",
    "}\n",
    "\n",
    "print(\"POSITIVE\")\n",
    "for best_positive in sorted(features_to_coef.items(),\n",
    "                           key= lambda x : x[1],\n",
    "                           reverse=True)[:5]:\n",
    "    print(best_positive)\n",
    "    \n",
    "print(\"NEGATIVE\")\n",
    "for best_negative in sorted(features_to_coef.items(),\n",
    "                           key= lambda x : x[1])[:5]:\n",
    "    print(best_negative)"
   ]
  },
  {
   "cell_type": "code",
   "execution_count": 61,
   "id": "66edc8a9",
   "metadata": {},
   "outputs": [],
   "source": [
    "y_pred_lr = final_model.predict(X_test)"
   ]
  },
  {
   "cell_type": "code",
   "execution_count": 62,
   "id": "37e2675c",
   "metadata": {},
   "outputs": [
    {
     "data": {
      "text/plain": [
       "array([[85, 12],\n",
       "       [37, 66]], dtype=int64)"
      ]
     },
     "execution_count": 62,
     "metadata": {},
     "output_type": "execute_result"
    }
   ],
   "source": [
    "confusion_matrix(y_test, y_pred_lr)"
   ]
  },
  {
   "cell_type": "code",
   "execution_count": 63,
   "id": "4fd75907",
   "metadata": {},
   "outputs": [
    {
     "data": {
      "text/plain": [
       "0.755"
      ]
     },
     "execution_count": 63,
     "metadata": {},
     "output_type": "execute_result"
    }
   ],
   "source": [
    "accuracy_score(y_test, y_pred_lr)"
   ]
  },
  {
   "cell_type": "markdown",
   "id": "5cb2db8d",
   "metadata": {},
   "source": [
    "* **For Logistic Regression we can see the model accuracy increased to 76% for Count Vectorizer**"
   ]
  },
  {
   "cell_type": "code",
   "execution_count": 64,
   "id": "fede65d6",
   "metadata": {},
   "outputs": [
    {
     "name": "stdout",
     "output_type": "stream",
     "text": [
      "Review is Positive.\n"
     ]
    }
   ],
   "source": [
    "Review = \"nice service\"\n",
    "\n",
    "input1 = [Review]\n",
    "input_data = tfidf.transform(input1).toarray()\n",
    "\n",
    "input_pred = final_model.predict(input_data)\n",
    "\n",
    "if input_pred[0]==1:\n",
    "    print(\"Review is Positive.\")\n",
    "else:\n",
    "    print(\"Review is Negative.\")"
   ]
  },
  {
   "cell_type": "code",
   "execution_count": 65,
   "id": "e4b30972",
   "metadata": {},
   "outputs": [
    {
     "name": "stdout",
     "output_type": "stream",
     "text": [
      "Review is Negative.\n"
     ]
    }
   ],
   "source": [
    "Review = \"long wait time\"\n",
    "\n",
    "input1 = [Review]\n",
    "input_data = tfidf.transform(input1).toarray()\n",
    "\n",
    "input_pred = final_model.predict(input_data)\n",
    "\n",
    "if input_pred[0]==1:\n",
    "    print(\"Review is Positive.\")\n",
    "else:\n",
    "    print(\"Review is Negative.\")"
   ]
  },
  {
   "cell_type": "markdown",
   "id": "01338d07",
   "metadata": {},
   "source": [
    "### <font color=blue>Classification Report<font color> "
   ]
  },
  {
   "cell_type": "code",
   "execution_count": 66,
   "id": "f872a6aa",
   "metadata": {},
   "outputs": [
    {
     "name": "stdout",
     "output_type": "stream",
     "text": [
      "              precision    recall  f1-score   support\n",
      "\n",
      "    Positive       0.70      0.88      0.78        97\n",
      "    Negative       0.85      0.64      0.73       103\n",
      "\n",
      "    accuracy                           0.76       200\n",
      "   macro avg       0.77      0.76      0.75       200\n",
      "weighted avg       0.77      0.76      0.75       200\n",
      "\n"
     ]
    }
   ],
   "source": [
    "target_names = ['Positive', 'Negative']\n",
    "print(classification_report(y_test, y_pred_lr, target_names=target_names))"
   ]
  },
  {
   "cell_type": "markdown",
   "id": "29122cf4",
   "metadata": {},
   "source": [
    "### <font color=blue>ROC AUC Curve<font color> "
   ]
  },
  {
   "cell_type": "code",
   "execution_count": 67,
   "id": "b2282e05",
   "metadata": {},
   "outputs": [
    {
     "data": {
      "image/png": "[encoded data removed]",
      "text/plain": [
       "<Figure size 640x480 with 1 Axes>"
      ]
     },
     "metadata": {},
     "output_type": "display_data"
    }
   ],
   "source": [
    "rocAuc = roc_auc_score(y_test, y_pred_lr)\n",
    "falsePositiveRate, truePositiveRate, _ = roc_curve(y_test, y_pred_lr)\n",
    "\n",
    "plt.figure()\n",
    "\n",
    "plt.plot(falsePositiveRate, truePositiveRate, color='green',\n",
    "        lw=3, label=\"ROC curve (area = %0.2f)\" %rocAuc)\n",
    "plt.plot([0,1], [0,1], color='navy', lw=3, linestyle=\"--\")\n",
    "plt.xlim([0.0, 1.0])\n",
    "plt.ylim([0.0, 1.05])\n",
    "plt.xlabel(\"False Positive Rate\")\n",
    "plt.ylabel(\"True Positive Rate\")\n",
    "plt.title(\"Receiver Operating Characteristics of Sentiment Analysis Model\")\n",
    "plt.legend(loc=\"lower right\")\n",
    "plt.show()"
   ]
  },
  {
   "cell_type": "markdown",
   "id": "2ef124b0",
   "metadata": {},
   "source": [
    "### <font color=blue>CONFUSION MATRIX<font color> "
   ]
  },
  {
   "cell_type": "code",
   "execution_count": 68,
   "id": "57154660",
   "metadata": {},
   "outputs": [
    {
     "data": {
      "text/plain": [
       "array([0, 0, 0, 0, 0, 0, 1, 0, 0, 1, 1, 1, 1, 1, 1, 1, 0, 0, 0, 1, 0, 0,\n",
       "       1, 0, 0, 1, 0, 1, 1, 1, 1, 1, 0, 0, 1, 0, 0, 0, 0, 1, 1, 0, 0, 0,\n",
       "       0, 0, 1, 1, 0, 0, 1, 1, 1, 1, 0, 0, 0, 0, 0, 1, 0, 0, 0, 1, 0, 0,\n",
       "       1, 0, 0, 0, 1, 1, 1, 0, 0, 0, 0, 1, 0, 1, 0, 1, 0, 0, 1, 1, 0, 0,\n",
       "       1, 1, 0, 1, 0, 0, 0, 0, 0, 0, 0, 1, 0, 1, 1, 1, 0, 0, 1, 1, 0, 0,\n",
       "       0, 1, 0, 1, 0, 0, 1, 1, 1, 1, 0, 0, 1, 1, 0, 0, 0, 1, 0, 0, 0, 1,\n",
       "       0, 0, 1, 1, 1, 1, 1, 0, 0, 1, 1, 0, 0, 0, 0, 0, 0, 0, 0, 0, 1, 1,\n",
       "       0, 0, 1, 0, 1, 1, 0, 0, 1, 1, 0, 0, 0, 0, 0, 0, 0, 1, 1, 0, 0, 0,\n",
       "       0, 1, 0, 0, 1, 0, 0, 0, 0, 0, 0, 1, 0, 1, 1, 0, 0, 0, 0, 0, 1, 1,\n",
       "       0, 0], dtype=int64)"
      ]
     },
     "execution_count": 68,
     "metadata": {},
     "output_type": "execute_result"
    }
   ],
   "source": [
    "y_pred_lr"
   ]
  },
  {
   "cell_type": "code",
   "execution_count": 69,
   "id": "3c26596c",
   "metadata": {},
   "outputs": [
    {
     "data": {
      "text/plain": [
       "array([[85, 12],\n",
       "       [37, 66]], dtype=int64)"
      ]
     },
     "execution_count": 69,
     "metadata": {},
     "output_type": "execute_result"
    }
   ],
   "source": [
    "cm = confusion_matrix(y_test, y_pred_lr)\n",
    "cm"
   ]
  },
  {
   "cell_type": "code",
   "execution_count": 70,
   "id": "d9b97f16",
   "metadata": {},
   "outputs": [
    {
     "data": {
      "text/plain": [
       "['Positive', 'Negative']"
      ]
     },
     "execution_count": 70,
     "metadata": {},
     "output_type": "execute_result"
    }
   ],
   "source": [
    "target_names"
   ]
  },
  {
   "cell_type": "code",
   "execution_count": 71,
   "id": "3f576cd9",
   "metadata": {},
   "outputs": [
    {
     "data": {
      "image/png": "[encoded data removed]",
      "text/plain": [
       "<Figure size 640x480 with 2 Axes>"
      ]
     },
     "metadata": {},
     "output_type": "display_data"
    }
   ],
   "source": [
    "sns.set(font_scale=1.4) \n",
    "x_axis_labels = y_axis_labels = target_names\n",
    "sns.heatmap(cm, annot=True, annot_kws={\"size\":16}, fmt='g',\n",
    "           xticklabels=x_axis_labels,\n",
    "           yticklabels=y_axis_labels)\n",
    "plt.show()"
   ]
  },
  {
   "cell_type": "code",
   "execution_count": null,
   "id": "d1291ec4",
   "metadata": {},
   "outputs": [],
   "source": []
  }
 ],
 "metadata": {
  "kernelspec": {
   "display_name": "Python 3 (ipykernel)",
   "language": "python",
   "name": "python3"
  },
  "language_info": {
   "codemirror_mode": {
    "name": "ipython",
    "version": 3
   },
   "file_extension": ".py",
   "mimetype": "text/x-python",
   "name": "python",
   "nbconvert_exporter": "python",
   "pygments_lexer": "ipython3",
   "version": "3.9.13"
  }
 },
 "nbformat": 4,
 "nbformat_minor": 5
}
